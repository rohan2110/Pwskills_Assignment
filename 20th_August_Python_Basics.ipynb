{
 "cells": [
  {
   "cell_type": "markdown",
   "id": "5c656fd0",
   "metadata": {},
   "source": [
    "# TOPIC: String Based Assignment Problem"
   ]
  },
  {
   "cell_type": "code",
   "execution_count": null,
   "id": "81c8e046",
   "metadata": {},
   "outputs": [],
   "source": []
  },
  {
   "cell_type": "markdown",
   "id": "3390a389",
   "metadata": {},
   "source": [
    "1. Write a program to reverse a string."
   ]
  },
  {
   "cell_type": "code",
   "execution_count": null,
   "id": "981e8344",
   "metadata": {},
   "outputs": [],
   "source": [
    "string1 = input(\"Enter a String :\")\n",
    "print(\"Reverse of the string is :\", string1[::-1])"
   ]
  },
  {
   "cell_type": "markdown",
   "id": "c7b8d57d",
   "metadata": {},
   "source": [
    "2. Check if a string is a palindrome."
   ]
  },
  {
   "cell_type": "code",
   "execution_count": null,
   "id": "570ef101",
   "metadata": {},
   "outputs": [],
   "source": [
    "string2 = input(\"Enter a String to check if it is Palindrome :\")\n",
    "string2 = string2.lower()\n",
    "string3 = string2[::-1]\n",
    "\n",
    "if string3 == string2:\n",
    "    print(\"Enter string is Palindrome\")\n",
    "else:\n",
    "    print(\"Enter string is not Palindrome\")\n",
    "    "
   ]
  },
  {
   "cell_type": "markdown",
   "id": "2adb4375",
   "metadata": {},
   "source": [
    "3. Convert a string to uppercase."
   ]
  },
  {
   "cell_type": "code",
   "execution_count": null,
   "id": "f9042f39",
   "metadata": {},
   "outputs": [],
   "source": [
    "string3 = input(\"Enter a String \")\n",
    "print(\"Uppercase of your string :\", string3.upper())"
   ]
  },
  {
   "cell_type": "markdown",
   "id": "045bd6d5",
   "metadata": {},
   "source": [
    "4. Convert a string to lowercase."
   ]
  },
  {
   "cell_type": "code",
   "execution_count": null,
   "id": "24fe904e",
   "metadata": {},
   "outputs": [],
   "source": [
    "string4 = input(\"Enter a String \")\n",
    "print(\"lowercase of your string :\", string4.lower())"
   ]
  },
  {
   "cell_type": "markdown",
   "id": "f83a94a1",
   "metadata": {},
   "source": [
    "5. Count the number of vowels in a string."
   ]
  },
  {
   "cell_type": "code",
   "execution_count": null,
   "id": "7a4916e2",
   "metadata": {},
   "outputs": [],
   "source": [
    "string5 = input(\"Enter a String :\")\n",
    "a =\"aeiou\"\n",
    "string5 = string5.lower()\n",
    "i=0\n",
    "vowel=0\n",
    "\n",
    "while i< len(string5):\n",
    "    if (string5[i] in a):\n",
    "        vowel = vowel + 1\n",
    "        i= i+1\n",
    "    else:\n",
    "        i= i+1\n",
    "\n",
    "print(\"The number of Vowel in a String is :\", vowel)"
   ]
  },
  {
   "cell_type": "markdown",
   "id": "6bc036e3",
   "metadata": {},
   "source": [
    "6. Count the number of consonants in a string."
   ]
  },
  {
   "cell_type": "code",
   "execution_count": null,
   "id": "f7b8af33",
   "metadata": {},
   "outputs": [],
   "source": [
    "string6 = input(\"Enter a String :\")\n",
    "a = \"bcdfghjklmnpqrstvwxyz\"\n",
    "string6 = string6.lower()\n",
    "i=0\n",
    "consonant=0\n",
    "\n",
    "while i < len(string6):\n",
    "    if (string6[i] in a):\n",
    "        consonant = consonant + 1\n",
    "        i= i +1\n",
    "    else:\n",
    "        i = i+1\n",
    "print(\"The number of consonant in a String is :\", consonant)"
   ]
  },
  {
   "cell_type": "markdown",
   "id": "18f74293",
   "metadata": {},
   "source": [
    "7. Remove all whitespaces from a string."
   ]
  },
  {
   "cell_type": "code",
   "execution_count": null,
   "id": "a8e9e2ac",
   "metadata": {},
   "outputs": [],
   "source": [
    "string7 = input(\"Enter a String :\")\n",
    "string7=string7.replace(\" \",\"\")\n",
    "string7"
   ]
  },
  {
   "cell_type": "markdown",
   "id": "0267c3a7",
   "metadata": {},
   "source": [
    "8. Find the length of a string without using the `len()` function."
   ]
  },
  {
   "cell_type": "code",
   "execution_count": null,
   "id": "68081e38",
   "metadata": {},
   "outputs": [],
   "source": [
    "string8 = input(\"Enter a String :\")\n",
    "count=0\n",
    "for i in string8:\n",
    "    count = count + 1\n",
    "count"
   ]
  },
  {
   "cell_type": "markdown",
   "id": "7c2749a7",
   "metadata": {},
   "source": [
    "9. Check if a string contains a specific word."
   ]
  },
  {
   "cell_type": "code",
   "execution_count": null,
   "id": "bce7d6d4",
   "metadata": {},
   "outputs": [],
   "source": [
    "sentence = \"This is Rohan Shinde. Data Science class.\"\n",
    "string9 = input(\"Enter a word to check if present or not :\")\n",
    "if string9.lower() in sentence.lower():\n",
    "    print(\"Enter word is present in string\")\n",
    "else:\n",
    "    print(\"Enter word is not present\")\n",
    "    "
   ]
  },
  {
   "cell_type": "markdown",
   "id": "0d94c48d",
   "metadata": {},
   "source": [
    "10. Replace a word in a string with another word."
   ]
  },
  {
   "cell_type": "code",
   "execution_count": null,
   "id": "2ee989d1",
   "metadata": {},
   "outputs": [],
   "source": [
    "sentence = \"This is Rohan Shinde. Data Science class.\"\n",
    "string10 = input(\"Enter a word  :\")\n",
    "word =  input(\"Enter a word to replace :\")\n",
    "sentence.replace(string10,word)"
   ]
  },
  {
   "cell_type": "markdown",
   "id": "416d93b2",
   "metadata": {},
   "source": [
    "11. Count the occurrences of a word in a string."
   ]
  },
  {
   "cell_type": "code",
   "execution_count": null,
   "id": "07a19850",
   "metadata": {},
   "outputs": [],
   "source": [
    "sentence = \"data is the new oil. data is the future.\"\n",
    "string11 = input(\"Enter a word to check the occurence in sentence :\")\n",
    "a = sentence.split(sep=\" \")\n",
    "count =0\n",
    "\n",
    "for i in range(len(a)):\n",
    "    if a[i]== string11:\n",
    "        count = count + 1\n",
    "print(\"The word \",string11,\" occurred in sentence is :\", count)\n"
   ]
  },
  {
   "cell_type": "markdown",
   "id": "e2ee85ae",
   "metadata": {},
   "source": [
    "12. Find the first occurrence of a word in a string."
   ]
  },
  {
   "cell_type": "code",
   "execution_count": null,
   "id": "16ebc893",
   "metadata": {},
   "outputs": [],
   "source": [
    "sentence = \"data is the new oil. data is the future.\"\n",
    "string12 = input(\"Enter a word to check the first occurence in sentence :\")\n",
    "print(\"The index of the word of first occurrence :\",sentence.find(string12))"
   ]
  },
  {
   "cell_type": "markdown",
   "id": "db8eac1a",
   "metadata": {},
   "source": [
    "13. Find the last occurrence of a word in a string."
   ]
  },
  {
   "cell_type": "code",
   "execution_count": null,
   "id": "b646269a",
   "metadata": {},
   "outputs": [],
   "source": [
    "sentence = \"data is the new oil. data is the future.\"\n",
    "string13 = input(\"Enter a word to check the last occurence :\")\n",
    "print(\"The index of the word of last occurrence :\",sentence.rfind(string13))"
   ]
  },
  {
   "cell_type": "markdown",
   "id": "6c2fb6bc",
   "metadata": {},
   "source": [
    "14. Split a string into a list of words."
   ]
  },
  {
   "cell_type": "code",
   "execution_count": null,
   "id": "72281fa2",
   "metadata": {},
   "outputs": [],
   "source": [
    "sentence = \"data is the new oil. data is the future.\"\n",
    "a=sentence.split()\n",
    "print(\"The list of word is :\", a)"
   ]
  },
  {
   "cell_type": "markdown",
   "id": "089a121e",
   "metadata": {},
   "source": [
    "15. Join a list of words into a string."
   ]
  },
  {
   "cell_type": "code",
   "execution_count": null,
   "id": "c1bc3b04",
   "metadata": {},
   "outputs": [],
   "source": [
    "a= ['data', 'is', 'the', 'new', 'oil.', 'data', 'is', 'the', 'future.']\n",
    "string15 = str()\n",
    "for i in range(len(a)):\n",
    "    string15 = string15 + a[i] + \" \"\n",
    "\n",
    "print(\"The String after joining list of words :\", string15.rstrip(\" \"))"
   ]
  },
  {
   "cell_type": "markdown",
   "id": "319d1a33",
   "metadata": {},
   "source": [
    "16. Convert a string where words are separated by spaces to one where words\n",
    "are separated by underscores."
   ]
  },
  {
   "cell_type": "code",
   "execution_count": null,
   "id": "7bb2c2db",
   "metadata": {},
   "outputs": [],
   "source": [
    "sentence = \"data is the new oil. data is the future.\"\n",
    "sentence.replace(\" \",\"_\")"
   ]
  },
  {
   "cell_type": "markdown",
   "id": "1592bc19",
   "metadata": {},
   "source": [
    "17. Check if a string starts with a specific word or phrase."
   ]
  },
  {
   "cell_type": "code",
   "execution_count": null,
   "id": "8f2ca72a",
   "metadata": {},
   "outputs": [],
   "source": [
    "sentence = \"data is the new oil. data is the future.\"\n",
    "string17 = input(\"Enter the word to check with string start with :\")\n",
    "\n",
    "if (sentence.startswith(string17)):\n",
    "    print(\"String starts with the word : \" ,string17)\n",
    "else:\n",
    "    print(\"String does not start with the word : \", string17)"
   ]
  },
  {
   "cell_type": "markdown",
   "id": "6bb29f9f",
   "metadata": {},
   "source": [
    "18. Check if a string ends with a specific word or phrase."
   ]
  },
  {
   "cell_type": "code",
   "execution_count": null,
   "id": "2c17b1ea",
   "metadata": {},
   "outputs": [],
   "source": [
    "sentence = \"data is the new oil. data is the future.\"\n",
    "string18 = input(\"Enter the word to check with string end with :\")\n",
    "\n",
    "if (sentence.endswith(string18)):\n",
    "    print(\"String ends with the word : \" ,string18)\n",
    "else:\n",
    "    print(\"String does not end with the word : \", string18)"
   ]
  },
  {
   "cell_type": "markdown",
   "id": "a9f92704",
   "metadata": {},
   "source": [
    "19. Convert a string to title case (e.g., \"hello world\" to \"Hello World\")."
   ]
  },
  {
   "cell_type": "code",
   "execution_count": null,
   "id": "2f253add",
   "metadata": {},
   "outputs": [],
   "source": [
    "sentence = \"data is the new oil. data is the future.\"\n",
    "sentence.title()"
   ]
  },
  {
   "cell_type": "markdown",
   "id": "37e1bf22",
   "metadata": {},
   "source": [
    "20. Find the longest word in a string."
   ]
  },
  {
   "cell_type": "code",
   "execution_count": 19,
   "id": "5ee4732a",
   "metadata": {},
   "outputs": [
    {
     "name": "stdout",
     "output_type": "stream",
     "text": [
      "The longest word in string is : future.\n"
     ]
    }
   ],
   "source": [
    "sentence = \"data is the new oil. data is the future.\"\n",
    "a =sentence.split()\n",
    "long_word = \"\"\n",
    "for i in a:\n",
    "    if (len(i) > len(long_word)):\n",
    "        long_word = i\n",
    "\n",
    "print(\"The longest word in string is :\", long_word)"
   ]
  },
  {
   "cell_type": "markdown",
   "id": "443aeb46",
   "metadata": {},
   "source": [
    "21. Find the shortest word in a string."
   ]
  },
  {
   "cell_type": "code",
   "execution_count": 21,
   "id": "bdcd87bd",
   "metadata": {},
   "outputs": [
    {
     "name": "stdout",
     "output_type": "stream",
     "text": [
      "The shortes word in string is : is\n"
     ]
    }
   ],
   "source": [
    "sentence = \"data is the new oil. data is the future.\"\n",
    "a =sentence.split()\n",
    "long_word = \"\"\n",
    "for i in a:\n",
    "    if (len(i) > len(long_word)):\n",
    "        long_word = i\n",
    "short_word = long_word\n",
    "for i in a:\n",
    "    if(len(i) < len(short_word)):\n",
    "        short_word = i\n",
    "\n",
    "print(\"The shortes word in string is :\", short_word)"
   ]
  },
  {
   "cell_type": "markdown",
   "id": "224ef5b1",
   "metadata": {},
   "source": [
    "22. Reverse the order of words in a string."
   ]
  },
  {
   "cell_type": "code",
   "execution_count": 30,
   "id": "d59258d6",
   "metadata": {},
   "outputs": [
    {
     "name": "stdout",
     "output_type": "stream",
     "text": [
      "The sentence in reverse order : future. the is data oil. new the is data\n"
     ]
    }
   ],
   "source": [
    "sentence = \"data is the new oil. data is the future.\"\n",
    "a=sentence.split()\n",
    "b=a[::-1]\n",
    "sentence_reverse =\"\"\n",
    "for i in range(len(b)):\n",
    "    sentence_reverse = sentence_reverse + b[i] + \" \"\n",
    "\n",
    "print(\"The sentence in reverse order :\", sentence_reverse.rstrip(\" \"))\n"
   ]
  },
  {
   "cell_type": "markdown",
   "id": "85429063",
   "metadata": {},
   "source": [
    "23. Check if a string is alphanumeric."
   ]
  },
  {
   "cell_type": "code",
   "execution_count": 1,
   "id": "2650a5a0",
   "metadata": {},
   "outputs": [
    {
     "data": {
      "text/plain": [
       "False"
      ]
     },
     "execution_count": 1,
     "metadata": {},
     "output_type": "execute_result"
    }
   ],
   "source": [
    "sentence = \"data is the new oil. data is the future.\"\n",
    "sentence.isalnum()"
   ]
  },
  {
   "cell_type": "markdown",
   "id": "f469278a",
   "metadata": {},
   "source": [
    "24. Extract all digits from a string."
   ]
  },
  {
   "cell_type": "code",
   "execution_count": 14,
   "id": "f31f375f",
   "metadata": {},
   "outputs": [
    {
     "name": "stdout",
     "output_type": "stream",
     "text": [
      "The list of digit from a string : ['1', '2']\n"
     ]
    }
   ],
   "source": [
    "sentence = \"1.data is the new oil 2.data is the future.\"\n",
    "l=[]\n",
    "for i in range(len(sentence)):\n",
    "    if (sentence[i].isdigit()):\n",
    "        l.append(sentence[i])\n",
    "\n",
    "print(\"The list of digit from a string :\", l)\n",
    "        "
   ]
  },
  {
   "cell_type": "markdown",
   "id": "eac0b542",
   "metadata": {},
   "source": [
    "25. Extract all alphabets from a string."
   ]
  },
  {
   "cell_type": "code",
   "execution_count": 15,
   "id": "220bd4bc",
   "metadata": {},
   "outputs": [
    {
     "name": "stdout",
     "output_type": "stream",
     "text": [
      "The list of digit from a string : ['d', 'a', 't', 'a', 'i', 's', 't', 'h', 'e', 'n', 'e', 'w', 'o', 'i', 'l', 'd', 'a', 't', 'a', 'i', 's', 't', 'h', 'e', 'f', 'u', 't', 'u', 'r', 'e']\n"
     ]
    }
   ],
   "source": [
    "sentence = \"1.data is the new oil 2.data is the future.\"\n",
    "l=[]\n",
    "for i in range(len(sentence)):\n",
    "    if (sentence[i].isalpha()):\n",
    "        l.append(sentence[i])\n",
    "\n",
    "print(\"The list of digit from a string :\", l)"
   ]
  },
  {
   "cell_type": "markdown",
   "id": "e0d0a84f",
   "metadata": {},
   "source": [
    "26. Count the number of uppercase letters in a string."
   ]
  },
  {
   "cell_type": "code",
   "execution_count": 17,
   "id": "9c46145e",
   "metadata": {},
   "outputs": [
    {
     "name": "stdout",
     "output_type": "stream",
     "text": [
      "The number of uppercase letters in a string : 3\n"
     ]
    }
   ],
   "source": [
    "sentence = \"1. Data is the new oil 2. Data is the Future.\"\n",
    "count = 0\n",
    "for i in range(len(sentence)):\n",
    "    if (sentence[i].isupper()):\n",
    "        count = count + 1\n",
    "\n",
    "print(\"The number of uppercase letters in a string :\", count)"
   ]
  },
  {
   "cell_type": "markdown",
   "id": "625b2dc0",
   "metadata": {},
   "source": [
    "27. Count the number of lowercase letters in a string."
   ]
  },
  {
   "cell_type": "code",
   "execution_count": 20,
   "id": "bdb6e911",
   "metadata": {},
   "outputs": [
    {
     "name": "stdout",
     "output_type": "stream",
     "text": [
      "The number of lowercase letters in a string : 27\n"
     ]
    }
   ],
   "source": [
    "sentence = \"1. Data is the new oil 2. Data is the Future.\"\n",
    "count = 0\n",
    "for i in range(len(sentence)):\n",
    "    if (sentence[i].islower()):\n",
    "        count = count + 1\n",
    "\n",
    "print(\"The number of lowercase letters in a string :\", count)"
   ]
  },
  {
   "cell_type": "markdown",
   "id": "20b2bb8f",
   "metadata": {},
   "source": [
    "28. Swap the case of each character in a string."
   ]
  },
  {
   "cell_type": "code",
   "execution_count": 21,
   "id": "94e676ee",
   "metadata": {},
   "outputs": [
    {
     "name": "stdout",
     "output_type": "stream",
     "text": [
      "String after swap case 1. dATA IS THE NEW OIL 2. dATA IS THE fUTURE.\n"
     ]
    }
   ],
   "source": [
    "sentence = \"1. Data is the new oil 2. Data is the Future.\"\n",
    "print(\"String after swap case\", sentence.swapcase())"
   ]
  },
  {
   "cell_type": "markdown",
   "id": "46495e6b",
   "metadata": {},
   "source": [
    "29. Remove a specific word from a string."
   ]
  },
  {
   "cell_type": "code",
   "execution_count": 28,
   "id": "75facd17",
   "metadata": {},
   "outputs": [
    {
     "name": "stdout",
     "output_type": "stream",
     "text": [
      "Enter a string to remove a specific word :Data\n",
      "The string after removing word : 1.  is the new oil 2.  is the Future.\n"
     ]
    }
   ],
   "source": [
    "sentence = \"1. Data is the new oil 2. Data is the Future.\"\n",
    "string29 = input(\"Enter a string to remove a specific word :\")\n",
    "if (string29 in sentence):\n",
    "    print(\"The string after removing word :\",sentence.replace(string29, \"\"))\n",
    "else:\n",
    "    print(\"The word does not exist in string\")\n",
    "    \n"
   ]
  },
  {
   "cell_type": "markdown",
   "id": "40f9d7a7",
   "metadata": {},
   "source": [
    "30. Check if a string is a valid email address."
   ]
  },
  {
   "cell_type": "code",
   "execution_count": 49,
   "id": "6cea7411",
   "metadata": {},
   "outputs": [
    {
     "name": "stdout",
     "output_type": "stream",
     "text": [
      "Enter a email address :rohan. shinde@pelatro.com\n",
      "The given email id is not valid :\n"
     ]
    }
   ],
   "source": [
    "string30 = input(\"Enter a email address :\")\n",
    "\n",
    "if \" \" not in string30:\n",
    "    if(string30.count(\"@\") < 2):\n",
    "        print(\"The given email id is valid :\")\n",
    "    else:\n",
    "        print(\"The given email id is not valid :\")\n",
    "else:\n",
    "    print(\"The given email id is not valid :\")\n"
   ]
  },
  {
   "cell_type": "markdown",
   "id": "bf88d06d",
   "metadata": {},
   "source": [
    "31. Extract the username from an email address string."
   ]
  },
  {
   "cell_type": "code",
   "execution_count": 55,
   "id": "54c2db32",
   "metadata": {},
   "outputs": [
    {
     "name": "stdout",
     "output_type": "stream",
     "text": [
      "Enter a email address :rohan.shinde@pelatro.com\n",
      "The username is : rohan.shinde\n"
     ]
    }
   ],
   "source": [
    "string31 = input(\"Enter a email address :\")\n",
    "string31.split(sep=\"@\")\n",
    "print(\"The username is :\", string31.split(sep=\"@\")[0])"
   ]
  },
  {
   "cell_type": "markdown",
   "id": "938f0a04",
   "metadata": {},
   "source": [
    "32. Extract the domain name from an email address string."
   ]
  },
  {
   "cell_type": "code",
   "execution_count": 56,
   "id": "62431992",
   "metadata": {},
   "outputs": [
    {
     "name": "stdout",
     "output_type": "stream",
     "text": [
      "Enter a email address :rohan.shinde@pelatro.com\n",
      "The domain is : pelatro.com\n"
     ]
    }
   ],
   "source": [
    "string32 = input(\"Enter a email address :\")\n",
    "string32.split(sep=\"@\")\n",
    "print(\"The domain is :\", string32.split(sep=\"@\")[1])"
   ]
  },
  {
   "cell_type": "markdown",
   "id": "85240908",
   "metadata": {},
   "source": [
    "33. Replace multiple spaces in a string with a single space."
   ]
  },
  {
   "cell_type": "code",
   "execution_count": 39,
   "id": "78d6536c",
   "metadata": {},
   "outputs": [
    {
     "data": {
      "text/plain": [
       "'1. Data is the new oil 2. Data is the Future.'"
      ]
     },
     "execution_count": 39,
     "metadata": {},
     "output_type": "execute_result"
    }
   ],
   "source": [
    "sentence = \"1.   Data is the  new oil      2. Data  is the    Future.\"\n",
    "a=sentence.split(sep=\" \")\n",
    "b=[]\n",
    "for i in range(len(a)):\n",
    "    if (a[i] != \"\"):\n",
    "        b.append(a[i])\n",
    "        \n",
    "sentence_new =\"\"\n",
    "for i in b:\n",
    "    sentence_new = sentence_new + i + \" \"\n",
    "sentence_new[:-1]"
   ]
  },
  {
   "cell_type": "markdown",
   "id": "19c1544d",
   "metadata": {},
   "source": [
    "34. Check if a string is a valid URL."
   ]
  },
  {
   "cell_type": "code",
   "execution_count": 42,
   "id": "0940e9f2",
   "metadata": {},
   "outputs": [
    {
     "name": "stdout",
     "output_type": "stream",
     "text": [
      "Enter a URL :https://google.com\n",
      "Enter value is Valid URL \n"
     ]
    }
   ],
   "source": [
    "url = input(\"Enter a URL :\")\n",
    "if ((url.startswith(\"http://\") or (url.startswith(\"https://\")))):\n",
    "    print(\"Enter value is Valid URL \")\n",
    "else:\n",
    "    print(\"Enter value is not valid URL \")"
   ]
  },
  {
   "cell_type": "markdown",
   "id": "f1a46cdf",
   "metadata": {},
   "source": [
    "35. Extract the protocol (http or https) from a URL string."
   ]
  },
  {
   "cell_type": "code",
   "execution_count": 43,
   "id": "9c62ddce",
   "metadata": {},
   "outputs": [
    {
     "name": "stdout",
     "output_type": "stream",
     "text": [
      "Enter a URL :https://google.com\n",
      "Protocol is HTTPS\n"
     ]
    }
   ],
   "source": [
    "url = input(\"Enter a URL :\")\n",
    "if ((url.startswith(\"http://\") or (url.startswith(\"https://\")))):\n",
    "    if(url.startswith(\"http://\")):\n",
    "        print(\"Protocol is HTTP\")\n",
    "    else:\n",
    "        print(\"Protocol is HTTPS\")\n",
    "else:\n",
    "    print(\"Enter value is not valid URL \")"
   ]
  },
  {
   "cell_type": "markdown",
   "id": "1c44dffa",
   "metadata": {},
   "source": [
    "36. Find the frequency of each character in a string."
   ]
  },
  {
   "cell_type": "code",
   "execution_count": 54,
   "id": "caf0f3f3",
   "metadata": {},
   "outputs": [
    {
     "name": "stdout",
     "output_type": "stream",
     "text": [
      "['Data', 'is', 'the', 'new', 'oil', '.', 'Data', 'is', 'the', 'Future', '.']\n",
      "The frequency of each character in string are as follow (char:frequency) format :  {'is': 2, 'the': 2, 'oil': 1, 'Future': 1, 'new': 1, 'Data': 2, '.': 2, ' ': 10}\n"
     ]
    }
   ],
   "source": [
    "sentence = \"Data is the new oil . Data is the Future !!!\"\n",
    "a=sentence.split()\n",
    "print(a)\n",
    "space = sentence.count(\" \")\n",
    "s = set(a)\n",
    "s = tuple(s)\n",
    "d={}\n",
    "for i in s:\n",
    "    d[i]=sentence.count(i)\n",
    "d[\" \"]=space\n",
    "print(\"The frequency of each character in string are as follow (char:frequency) format : \",d)"
   ]
  },
  {
   "cell_type": "markdown",
   "id": "45896bca",
   "metadata": {},
   "source": [
    "37. Remove all punctuation from a string."
   ]
  },
  {
   "cell_type": "code",
   "execution_count": 60,
   "id": "9adedf8a",
   "metadata": {},
   "outputs": [
    {
     "data": {
      "text/plain": [
       "'Data is the new oil . Data is the Future '"
      ]
     },
     "execution_count": 60,
     "metadata": {},
     "output_type": "execute_result"
    }
   ],
   "source": [
    "sentence = \"Data is the new oil . Data is the Future !!!\"\n",
    "sentence_new=\"\"\n",
    "for i in range(len(sentence)):\n",
    "    if(sentence[i].isascii()):\n",
    "        sentence_new = sentence.replace(sentence[i],\"\")\n",
    "\n",
    "sentence_new"
   ]
  },
  {
   "cell_type": "markdown",
   "id": "bc1cc06e",
   "metadata": {},
   "source": [
    "38. Check if a string contains only digits."
   ]
  },
  {
   "cell_type": "code",
   "execution_count": 62,
   "id": "3c9010e1",
   "metadata": {},
   "outputs": [
    {
     "name": "stdout",
     "output_type": "stream",
     "text": [
      "Enter a Stringrohan123\n",
      "Enter String does not contains only Digits\n"
     ]
    }
   ],
   "source": [
    "string38 = input(\"Enter a String\")\n",
    "if (string38.isnumeric()):\n",
    "    print(\"Enter String contains only Digits \")\n",
    "else:\n",
    "    print(\"Enter String does not contains only Digits\")"
   ]
  },
  {
   "cell_type": "markdown",
   "id": "1c1aebca",
   "metadata": {},
   "source": [
    "39. Check if a string contains only alphabets."
   ]
  },
  {
   "cell_type": "code",
   "execution_count": 64,
   "id": "1d7b1a47",
   "metadata": {},
   "outputs": [
    {
     "name": "stdout",
     "output_type": "stream",
     "text": [
      "Enter a String rohan\n",
      "Enter String contains only Alphabets \n"
     ]
    }
   ],
   "source": [
    "string38 = input(\"Enter a String \")\n",
    "if (string38.isalpha()):\n",
    "    print(\"Enter String contains only Alphabets \")\n",
    "else:\n",
    "    print(\"Enter String does not contains only Alphabets\")"
   ]
  },
  {
   "cell_type": "markdown",
   "id": "0454e0c8",
   "metadata": {},
   "source": [
    "40. Convert a string to a list of characters."
   ]
  },
  {
   "cell_type": "code",
   "execution_count": 66,
   "id": "9a0b5a78",
   "metadata": {},
   "outputs": [
    {
     "name": "stdout",
     "output_type": "stream",
     "text": [
      "Enter a String : rohan\n"
     ]
    },
    {
     "data": {
      "text/plain": [
       "['r', 'o', 'h', 'a', 'n']"
      ]
     },
     "execution_count": 66,
     "metadata": {},
     "output_type": "execute_result"
    }
   ],
   "source": [
    "string40 = input(\"Enter a String : \")\n",
    "a=[]\n",
    "for i in string40:\n",
    "    a.append(i)\n",
    "a\n",
    "    "
   ]
  },
  {
   "cell_type": "markdown",
   "id": "9af68a66",
   "metadata": {},
   "source": [
    "41. Check if two strings are anagrams."
   ]
  },
  {
   "cell_type": "code",
   "execution_count": 71,
   "id": "4591cd82",
   "metadata": {},
   "outputs": [
    {
     "name": "stdout",
     "output_type": "stream",
     "text": [
      "Enter a first string : triangle\n",
      "Enter a second string : integral\n",
      "Strings are Anagrams\n"
     ]
    }
   ],
   "source": [
    "string1 = input(\"Enter a first string : \")\n",
    "string2 = input(\"Enter a second string : \")\n",
    "a=list(string1)\n",
    "b=list(string2)\n",
    "\n",
    "if (a.sort() == b.sort()):\n",
    "    print(\"Strings are Anagrams\")\n",
    "else:\n",
    "    print(\"Strings are not anagrams\")\n",
    "    \n"
   ]
  },
  {
   "cell_type": "markdown",
   "id": "56209c2a",
   "metadata": {},
   "source": [
    "42. Encode a string using a Caesar cipher."
   ]
  },
  {
   "cell_type": "code",
   "execution_count": 89,
   "id": "cc804759",
   "metadata": {},
   "outputs": [
    {
     "name": "stdout",
     "output_type": "stream",
     "text": [
      "Enter a String : rohan\n",
      "Caesar Cipher Encoded string is :  pmfyl\n"
     ]
    }
   ],
   "source": [
    "string42 = input(\"Enter a String : \")\n",
    "a =\"abcdefghijklmnopqrstuvwxyz\"\n",
    "b= \"yzabcdefghijklmnopqrstuvwx\"\n",
    "c=[]\n",
    "#print(\"a\",a.find(string42[0]))\n",
    "#print(\"b\", b.find(string42[0]))\n",
    "#string_new = b[a.find(string42[0])]\n",
    "for i in range(len(string42)):\n",
    "    if ((string42[i] in a) and (string42[i] in b)):\n",
    "        c.append(b[a.find(string42[i])])\n",
    "    else:\n",
    "        print(\"Please enter alphabet\")\n",
    "c\n",
    "encoded_string =\"\"\n",
    "for i in c:\n",
    "    encoded_string = encoded_string + i + \"$\"\n",
    "encoded_string=encoded_string.replace(\"$\",\"\")\n",
    "print(\"Caesar Cipher Encoded string is : \",encoded_string)"
   ]
  },
  {
   "cell_type": "markdown",
   "id": "03509506",
   "metadata": {},
   "source": [
    "43. Decode a Caesar cipher encoded string."
   ]
  },
  {
   "cell_type": "code",
   "execution_count": 93,
   "id": "6accc19a",
   "metadata": {},
   "outputs": [
    {
     "name": "stdout",
     "output_type": "stream",
     "text": [
      "Enter a String : pmfyl\n",
      "Caesar Cipher Encoded string is :  rohan\n"
     ]
    }
   ],
   "source": [
    "string43 = input(\"Enter a String : \")\n",
    "a =\"abcdefghijklmnopqrstuvwxyz\"\n",
    "b= \"yzabcdefghijklmnopqrstuvwx\"\n",
    "c=[]\n",
    "#print(\"a\",a.find(string42[0]))\n",
    "#print(\"b\", b.find(string42[0]))\n",
    "#string_new = b[a.find(string42[0])]\n",
    "for i in range(len(string43)):\n",
    "    if ((string43[i] in b) and (string42[i] in a)):\n",
    "        c.append(a[b.find(string43[i])])\n",
    "    else:\n",
    "        print(\"Please enter alphabet\")\n",
    "c\n",
    "encoded_string =\"\"\n",
    "for i in c:\n",
    "    encoded_string = encoded_string + i + \"$\"\n",
    "encoded_string=encoded_string.replace(\"$\",\"\")\n",
    "print(\"Caesar Cipher Encoded string is : \",encoded_string)"
   ]
  },
  {
   "cell_type": "markdown",
   "id": "5b986ee3",
   "metadata": {},
   "source": [
    "44. Find the most frequent word in a string."
   ]
  },
  {
   "cell_type": "code",
   "execution_count": 7,
   "id": "5d31a9c5",
   "metadata": {},
   "outputs": [
    {
     "name": "stdout",
     "output_type": "stream",
     "text": [
      "Data 3\n"
     ]
    }
   ],
   "source": [
    "sentence =\"Data is the new oil . Data is the Future . Data science !!!\"\n",
    "a=sentence.split()\n",
    "max_count = 0\n",
    "word = \"\"\n",
    "\n",
    "for i in a :\n",
    "    if (sentence.count(i) > max_count):\n",
    "        max_count = sentence.count(i)\n",
    "        word = i\n",
    "\n",
    "print(word,max_count)"
   ]
  },
  {
   "cell_type": "markdown",
   "id": "ddf38b90",
   "metadata": {},
   "source": [
    "45. Find all unique words in a string."
   ]
  },
  {
   "cell_type": "code",
   "execution_count": 21,
   "id": "0ce5eed0",
   "metadata": {},
   "outputs": [
    {
     "data": {
      "text/plain": [
       "['the', 'new', 'is', 'Future', 'science', 'oil', 'Data']"
      ]
     },
     "execution_count": 21,
     "metadata": {},
     "output_type": "execute_result"
    }
   ],
   "source": [
    "sentence =\"Data is the new oil . Data is the Future . Data science !!!\"\n",
    "a= sentence.split()\n",
    "s = set(a)\n",
    "a1 = list(s)\n",
    "words = []\n",
    "for i in range(len(a1)):\n",
    "    if (a1[i].isalpha()):\n",
    "        words.append(a1[i])\n",
    "words"
   ]
  },
  {
   "cell_type": "markdown",
   "id": "dc05bd0b",
   "metadata": {},
   "source": [
    "46. Count the number of syllables in a string."
   ]
  },
  {
   "cell_type": "code",
   "execution_count": 28,
   "id": "06a4e4ea",
   "metadata": {},
   "outputs": [
    {
     "data": {
      "text/plain": [
       "41"
      ]
     },
     "execution_count": 28,
     "metadata": {},
     "output_type": "execute_result"
    }
   ],
   "source": [
    "sentence =\"Data is the new oil . Data is the Future . Data science !!!3.\"\n",
    "count =0\n",
    "for i in range(len(sentence)):\n",
    "    if (sentence[i].isalpha()):\n",
    "        count = count + 1\n",
    "        \n",
    "count"
   ]
  },
  {
   "cell_type": "markdown",
   "id": "2f3f873e",
   "metadata": {},
   "source": [
    "47. Check if a string contains any special characters."
   ]
  },
  {
   "cell_type": "code",
   "execution_count": 36,
   "id": "d9c48b16",
   "metadata": {},
   "outputs": [
    {
     "name": "stdout",
     "output_type": "stream",
     "text": [
      "String contains special character\n"
     ]
    }
   ],
   "source": [
    "sentence =\"Data is the new oil . Data is the Future . Data science !!!3. \"\n",
    "\n",
    "for i in range(len(sentence)):\n",
    "    if not (sentence[i].isalnum() or sentence[i].isnumeric() or sentence[i] == \" \"):\n",
    "        print(\"String contains special character\")\n",
    "        break"
   ]
  },
  {
   "cell_type": "markdown",
   "id": "29ad4554",
   "metadata": {},
   "source": [
    "48. Remove the nth word from a string."
   ]
  },
  {
   "cell_type": "code",
   "execution_count": 48,
   "id": "ac7cdbd6",
   "metadata": {},
   "outputs": [
    {
     "name": "stdout",
     "output_type": "stream",
     "text": [
      "Enter the stringData\n",
      "Enter the sequence to remove2\n"
     ]
    },
    {
     "data": {
      "text/plain": [
       "'Data is the new oil .  is the Future . Data science !!!3.'"
      ]
     },
     "execution_count": 48,
     "metadata": {},
     "output_type": "execute_result"
    }
   ],
   "source": [
    "sentence =\"Data is the new oil . Data is the Future . Data science !!!3. \"\n",
    "a = sentence.split()\n",
    "s = input(\"Enter the string \")\n",
    "n = int(input(\"Enter the sequence to remove \"))\n",
    "count = 0\n",
    "for i in range(len(a)):\n",
    "    if (a[i] == s):\n",
    "        count = count + 1\n",
    "        if (count == n):\n",
    "            a[i]=\"\"\n",
    "            break\n",
    "sentence_new = \" \".join(a)\n",
    "sentence_new"
   ]
  },
  {
   "cell_type": "markdown",
   "id": "bdfc9a4f",
   "metadata": {},
   "source": [
    "49. Insert a word at the nth position in a string."
   ]
  },
  {
   "cell_type": "code",
   "execution_count": 49,
   "id": "652513b1",
   "metadata": {},
   "outputs": [
    {
     "name": "stdout",
     "output_type": "stream",
     "text": [
      "Enter the string Data\n",
      "Enter the sequence to remove 2\n",
      "Enter a string to replace D@T@\n"
     ]
    },
    {
     "data": {
      "text/plain": [
       "'Data is the new oil . D@T@ is the Future . Data science !!!3.'"
      ]
     },
     "execution_count": 49,
     "metadata": {},
     "output_type": "execute_result"
    }
   ],
   "source": [
    "sentence =\"Data is the new oil . Data is the Future . Data science !!!3. \"\n",
    "a = sentence.split()\n",
    "s = input(\"Enter the string \")\n",
    "n = int(input(\"Enter the sequence to remove \"))\n",
    "s1 = input(\"Enter a string to replace \")\n",
    "count = 0\n",
    "for i in range(len(a)):\n",
    "    if (a[i] == s):\n",
    "        count = count + 1\n",
    "        if (count == n):\n",
    "            a[i]= s1\n",
    "            break\n",
    "sentence_new = \" \".join(a)\n",
    "sentence_new"
   ]
  },
  {
   "cell_type": "markdown",
   "id": "6872ff97",
   "metadata": {},
   "source": [
    "50. Convert a CSV string to a list of lists."
   ]
  },
  {
   "cell_type": "code",
   "execution_count": 58,
   "id": "d886976e",
   "metadata": {},
   "outputs": [
    {
     "data": {
      "text/plain": [
       "['id, name, age', '1, rohan , 30', '2, pooja , 30']"
      ]
     },
     "execution_count": 58,
     "metadata": {},
     "output_type": "execute_result"
    }
   ],
   "source": [
    "string50 = ''' \n",
    "id, name, age\n",
    "1, rohan , 30\n",
    "2, pooja , 30\n",
    "'''\n",
    "\n",
    "a=string50.split(sep=\"\\n\")\n",
    "\n",
    "a.remove(\" \")\n",
    "a.pop()\n",
    "a"
   ]
  },
  {
   "cell_type": "code",
   "execution_count": null,
   "id": "f0fbd7c3",
   "metadata": {},
   "outputs": [],
   "source": []
  },
  {
   "cell_type": "markdown",
   "id": "5bd4cbf4",
   "metadata": {},
   "source": [
    "# List Based Practice Problem :"
   ]
  },
  {
   "cell_type": "markdown",
   "id": "ca624e86",
   "metadata": {},
   "source": [
    "1. Create a list with integers from 1 to 10."
   ]
  },
  {
   "cell_type": "code",
   "execution_count": 59,
   "id": "7b9ebf45",
   "metadata": {},
   "outputs": [
    {
     "data": {
      "text/plain": [
       "[1, 2, 3, 4, 5, 6, 7, 8, 9, 10]"
      ]
     },
     "execution_count": 59,
     "metadata": {},
     "output_type": "execute_result"
    }
   ],
   "source": [
    "a =[]\n",
    "for i in range(1,11):\n",
    "    a.append(i)\n",
    "a"
   ]
  },
  {
   "cell_type": "markdown",
   "id": "b607c9aa",
   "metadata": {},
   "source": [
    "2. Find the length of a list without using the `len()` function."
   ]
  },
  {
   "cell_type": "code",
   "execution_count": 61,
   "id": "925c2660",
   "metadata": {},
   "outputs": [
    {
     "name": "stdout",
     "output_type": "stream",
     "text": [
      "Length of the list is :  10\n"
     ]
    }
   ],
   "source": [
    "a = [1, 2, 3, 4, 5, 6, 7, 8, 9, 10]\n",
    "print(\"Length of the list is : \",len(a))"
   ]
  },
  {
   "cell_type": "markdown",
   "id": "e69d7668",
   "metadata": {},
   "source": [
    "3. Append an element to the end of a list."
   ]
  },
  {
   "cell_type": "code",
   "execution_count": 62,
   "id": "f92eea37",
   "metadata": {},
   "outputs": [
    {
     "name": "stdout",
     "output_type": "stream",
     "text": [
      "Enter a item to add to the list at the end : 44\n",
      "List after adding iten at end :  [1, 2, 3, 4, 5, 6, 7, 8, 9, 10, 44]\n"
     ]
    }
   ],
   "source": [
    "a = [1, 2, 3, 4, 5, 6, 7, 8, 9, 10]\n",
    "item = int(input(\"Enter a item to add to the list at the end : \"))\n",
    "a.append(item)\n",
    "print(\"List after adding iten at end : \",a)"
   ]
  },
  {
   "cell_type": "markdown",
   "id": "7c2140b6",
   "metadata": {},
   "source": [
    "4. Insert an element at a specific index in a list."
   ]
  },
  {
   "cell_type": "code",
   "execution_count": 69,
   "id": "e75617de",
   "metadata": {},
   "outputs": [
    {
     "name": "stdout",
     "output_type": "stream",
     "text": [
      "Enter a item to add to the list : 44\n",
      "Enter a Index number : 4\n"
     ]
    },
    {
     "data": {
      "text/plain": [
       "[1, 2, 3, 4, 44, 5, 6, 7, 8, 9, 10]"
      ]
     },
     "execution_count": 69,
     "metadata": {},
     "output_type": "execute_result"
    }
   ],
   "source": [
    "a = [1, 2, 3, 4, 5, 6, 7, 8, 9, 10]\n",
    "item =  int(input(\"Enter a item to add to the list : \"))\n",
    "index = int(input(\"Enter a Index number : \"))\n",
    "a.insert(index,item)\n",
    "a"
   ]
  },
  {
   "cell_type": "markdown",
   "id": "e0b307a6",
   "metadata": {},
   "source": [
    "5. Remove an element from a list by its value."
   ]
  },
  {
   "cell_type": "code",
   "execution_count": 71,
   "id": "0695d882",
   "metadata": {},
   "outputs": [
    {
     "name": "stdout",
     "output_type": "stream",
     "text": [
      "Enter a value to be removed : 5\n"
     ]
    },
    {
     "data": {
      "text/plain": [
       "[1, 2, 3, 4, 6, 7, 8, 9, 10]"
      ]
     },
     "execution_count": 71,
     "metadata": {},
     "output_type": "execute_result"
    }
   ],
   "source": [
    "a = [1, 2, 3, 4, 5, 6, 7, 8, 9, 10]\n",
    "value = int(input(\"Enter a value to be removed : \"))\n",
    "a.remove(value)\n",
    "a"
   ]
  },
  {
   "cell_type": "markdown",
   "id": "850c9ea1",
   "metadata": {},
   "source": [
    "6. Remove an element from a list by its index."
   ]
  },
  {
   "cell_type": "code",
   "execution_count": 72,
   "id": "4b2cd785",
   "metadata": {},
   "outputs": [
    {
     "name": "stdout",
     "output_type": "stream",
     "text": [
      "Enter a index to be removed : 4\n"
     ]
    },
    {
     "data": {
      "text/plain": [
       "[1, 2, 3, 4, 6, 7, 8, 9, 10]"
      ]
     },
     "execution_count": 72,
     "metadata": {},
     "output_type": "execute_result"
    }
   ],
   "source": [
    "a = [1, 2, 3, 4, 5, 6, 7, 8, 9, 10]\n",
    "index = int(input(\"Enter a index to be removed : \"))\n",
    "\n",
    "for i in range(len(a)):\n",
    "    if (i == index):\n",
    "        a.remove(a[i])\n",
    "a"
   ]
  },
  {
   "cell_type": "markdown",
   "id": "3d5f2e92",
   "metadata": {},
   "source": [
    "7. Check if an element exists in a list."
   ]
  },
  {
   "cell_type": "code",
   "execution_count": 76,
   "id": "7b0b21dd",
   "metadata": {},
   "outputs": [
    {
     "name": "stdout",
     "output_type": "stream",
     "text": [
      "Enter the element : 8\n",
      "Element exist in list \n"
     ]
    }
   ],
   "source": [
    "a = [1, 2, 3, 4, 5, 6, 7, 8, 9, 10]\n",
    "element = int(input(\"Enter the element : \"))\n",
    "\n",
    "if (element in a):\n",
    "    print(\"Element exist in list \")\n",
    "else:\n",
    "    print(\"Element does not exist in list\")"
   ]
  },
  {
   "cell_type": "markdown",
   "id": "5c5d7f06",
   "metadata": {},
   "source": [
    "8. Find the index of the first occurrence of an element in a list."
   ]
  },
  {
   "cell_type": "code",
   "execution_count": 78,
   "id": "22bc629f",
   "metadata": {},
   "outputs": [
    {
     "name": "stdout",
     "output_type": "stream",
     "text": [
      "Enter the element : 2\n"
     ]
    },
    {
     "data": {
      "text/plain": [
       "1"
      ]
     },
     "execution_count": 78,
     "metadata": {},
     "output_type": "execute_result"
    }
   ],
   "source": [
    "a = [1, 2, 3, 4, 5, 6, 7, 8, 9, 10,2,2]\n",
    "element = element = int(input(\"Enter the element : \"))\n",
    "a.index(element)"
   ]
  },
  {
   "cell_type": "markdown",
   "id": "871068d4",
   "metadata": {},
   "source": [
    "9. Count the occurrences of an element in a list."
   ]
  },
  {
   "cell_type": "code",
   "execution_count": 79,
   "id": "64ff4bd4",
   "metadata": {},
   "outputs": [
    {
     "name": "stdout",
     "output_type": "stream",
     "text": [
      "Enter the element : 2\n"
     ]
    },
    {
     "data": {
      "text/plain": [
       "3"
      ]
     },
     "execution_count": 79,
     "metadata": {},
     "output_type": "execute_result"
    }
   ],
   "source": [
    "a = [1, 2, 3, 4, 5, 6, 7, 8, 9, 10,2,2]\n",
    "element = element = int(input(\"Enter the element : \"))\n",
    "a.count(element)"
   ]
  },
  {
   "cell_type": "markdown",
   "id": "c14993b4",
   "metadata": {},
   "source": [
    "10. Reverse the order of elements in a list."
   ]
  },
  {
   "cell_type": "code",
   "execution_count": 80,
   "id": "06a93d21",
   "metadata": {},
   "outputs": [
    {
     "data": {
      "text/plain": [
       "[2, 2, 10, 9, 8, 7, 6, 5, 4, 3, 2, 1]"
      ]
     },
     "execution_count": 80,
     "metadata": {},
     "output_type": "execute_result"
    }
   ],
   "source": [
    "a = [1, 2, 3, 4, 5, 6, 7, 8, 9, 10,2,2]\n",
    "a.reverse()\n",
    "a"
   ]
  },
  {
   "cell_type": "markdown",
   "id": "63aecb84",
   "metadata": {},
   "source": [
    "11. Sort a list in ascending order."
   ]
  },
  {
   "cell_type": "code",
   "execution_count": 82,
   "id": "405f1ecc",
   "metadata": {},
   "outputs": [
    {
     "data": {
      "text/plain": [
       "[1, 2, 2, 2, 3, 4, 5, 6, 7, 8, 9, 10]"
      ]
     },
     "execution_count": 82,
     "metadata": {},
     "output_type": "execute_result"
    }
   ],
   "source": [
    "a = [1, 2, 3, 4, 5, 6, 7, 8, 9, 10,2,2]\n",
    "a.sort()\n",
    "a"
   ]
  },
  {
   "cell_type": "markdown",
   "id": "d93f6c43",
   "metadata": {},
   "source": [
    "12. Sort a list in descending order."
   ]
  },
  {
   "cell_type": "code",
   "execution_count": 83,
   "id": "d3d896c7",
   "metadata": {},
   "outputs": [
    {
     "data": {
      "text/plain": [
       "[10, 9, 8, 7, 6, 5, 4, 3, 2, 2, 2, 1]"
      ]
     },
     "execution_count": 83,
     "metadata": {},
     "output_type": "execute_result"
    }
   ],
   "source": [
    "a = [1, 2, 3, 4, 5, 6, 7, 8, 9, 10,2,2]\n",
    "a.sort(reverse=True)\n",
    "a"
   ]
  },
  {
   "cell_type": "markdown",
   "id": "bd659f44",
   "metadata": {},
   "source": [
    "13. Create a list of even numbers from 1 to 20."
   ]
  },
  {
   "cell_type": "code",
   "execution_count": 85,
   "id": "c007fea9",
   "metadata": {},
   "outputs": [
    {
     "data": {
      "text/plain": [
       "[2, 4, 6, 8, 10, 12, 14, 16, 18, 20]"
      ]
     },
     "execution_count": 85,
     "metadata": {},
     "output_type": "execute_result"
    }
   ],
   "source": [
    "a=[]\n",
    "for i in range(1,21):\n",
    "    if ((i % 2) == 0):\n",
    "        a.append(i)\n",
    "a"
   ]
  },
  {
   "cell_type": "markdown",
   "id": "ab9bc0ad",
   "metadata": {},
   "source": [
    "14. Create a list of odd numbers from 1 to 20."
   ]
  },
  {
   "cell_type": "code",
   "execution_count": 86,
   "id": "c4155bb4",
   "metadata": {},
   "outputs": [
    {
     "data": {
      "text/plain": [
       "[1, 3, 5, 7, 9, 11, 13, 15, 17, 19]"
      ]
     },
     "execution_count": 86,
     "metadata": {},
     "output_type": "execute_result"
    }
   ],
   "source": [
    "a=[]\n",
    "for i in range(1,21):\n",
    "    if ((i % 2) != 0):\n",
    "        a.append(i)\n",
    "a"
   ]
  },
  {
   "cell_type": "markdown",
   "id": "c4e4a3ed",
   "metadata": {},
   "source": [
    "15. Find the sum of all elements in a list."
   ]
  },
  {
   "cell_type": "code",
   "execution_count": 89,
   "id": "4b750434",
   "metadata": {},
   "outputs": [
    {
     "data": {
      "text/plain": [
       "55"
      ]
     },
     "execution_count": 89,
     "metadata": {},
     "output_type": "execute_result"
    }
   ],
   "source": [
    "a = [1, 2, 3, 4,5,6,7,8,9,10]\n",
    "sum=0\n",
    "for i in range(len(a)):\n",
    "    sum = sum + a[i]\n",
    "\n",
    "sum"
   ]
  },
  {
   "cell_type": "markdown",
   "id": "af0d7cd8",
   "metadata": {},
   "source": [
    "16. Find the maximum value in a list."
   ]
  },
  {
   "cell_type": "code",
   "execution_count": 90,
   "id": "524a6f18",
   "metadata": {},
   "outputs": [
    {
     "data": {
      "text/plain": [
       "10"
      ]
     },
     "execution_count": 90,
     "metadata": {},
     "output_type": "execute_result"
    }
   ],
   "source": [
    "a = [1, 2, 3, 4, 5, 6, 7, 8, 9, 10,2,2]\n",
    "max = 0\n",
    "for i in range(len(a)):\n",
    "    if (a[i] > max):\n",
    "        max = a[i]\n",
    "\n",
    "max"
   ]
  },
  {
   "cell_type": "markdown",
   "id": "6631311c",
   "metadata": {},
   "source": [
    "17. Find the minimum value in a list."
   ]
  },
  {
   "cell_type": "code",
   "execution_count": 91,
   "id": "4a1ea33e",
   "metadata": {},
   "outputs": [
    {
     "data": {
      "text/plain": [
       "1"
      ]
     },
     "execution_count": 91,
     "metadata": {},
     "output_type": "execute_result"
    }
   ],
   "source": [
    "a = [1, 2, 3, 4, 5, 6, 7, 8, 9, 10,2,2]\n",
    "a.sort()\n",
    "a[0]"
   ]
  },
  {
   "cell_type": "markdown",
   "id": "f7561f34",
   "metadata": {},
   "source": [
    "18. Create a list of squares of numbers from 1 to 10."
   ]
  },
  {
   "cell_type": "code",
   "execution_count": 92,
   "id": "e6ed9374",
   "metadata": {},
   "outputs": [
    {
     "data": {
      "text/plain": [
       "[1, 4, 9, 16, 25, 36, 49, 64, 81, 100]"
      ]
     },
     "execution_count": 92,
     "metadata": {},
     "output_type": "execute_result"
    }
   ],
   "source": [
    "a=[]\n",
    "for i in range(1,11):\n",
    "    a.append(i*i)\n",
    "a"
   ]
  },
  {
   "cell_type": "markdown",
   "id": "0eb3eee6",
   "metadata": {},
   "source": [
    "19. Create a list of random numbers."
   ]
  },
  {
   "cell_type": "code",
   "execution_count": 5,
   "id": "eb793ea9",
   "metadata": {},
   "outputs": [
    {
     "name": "stdout",
     "output_type": "stream",
     "text": [
      "Enter the number of list to create : 3\n",
      "Enter the value 5875\n",
      "Enter the value 55\n",
      "Enter the value 86\n",
      "The random list are :  [5875, 55, 86]\n"
     ]
    }
   ],
   "source": [
    "a=[]\n",
    "num = int(input(\"Enter the number of list to create : \"))\n",
    "i\n",
    "for i in range(num):\n",
    "    a.append(int(input(\"Enter the value \")))\n",
    "\n",
    "print(\"The random list are : \",a)"
   ]
  },
  {
   "cell_type": "markdown",
   "id": "67a036c4",
   "metadata": {},
   "source": [
    "20. Remove duplicates from a list."
   ]
  },
  {
   "cell_type": "code",
   "execution_count": 16,
   "id": "6183893e",
   "metadata": {},
   "outputs": [
    {
     "data": {
      "text/plain": [
       "[1, 2, 3, 4, 5, 6, 7, 8, 9, 10]"
      ]
     },
     "execution_count": 16,
     "metadata": {},
     "output_type": "execute_result"
    }
   ],
   "source": [
    "a = [1, 2, 3, 4, 5,4,3,5,5 ,6, 7, 8, 9, 10,2,2]\n",
    "s = set(a)\n",
    "s = list(s)\n",
    "s"
   ]
  },
  {
   "cell_type": "markdown",
   "id": "c4b34731",
   "metadata": {},
   "source": [
    "21. Find the common elements between two lists."
   ]
  },
  {
   "cell_type": "code",
   "execution_count": 18,
   "id": "6979e025",
   "metadata": {},
   "outputs": [
    {
     "data": {
      "text/plain": [
       "{1, 2, 6, 455}"
      ]
     },
     "execution_count": 18,
     "metadata": {},
     "output_type": "execute_result"
    }
   ],
   "source": [
    "a=[1,2,33,4,455,6,66,7]\n",
    "b=[1,1,22,2,2,3,44,455,6,44,88]\n",
    "\n",
    "s1=set(a)\n",
    "s2=set(b)\n",
    "\n",
    "s1.intersection(s2)"
   ]
  },
  {
   "cell_type": "markdown",
   "id": "63c5ee67",
   "metadata": {},
   "source": [
    "22. Find the difference between two lists."
   ]
  },
  {
   "cell_type": "code",
   "execution_count": 19,
   "id": "b8c03b77",
   "metadata": {},
   "outputs": [
    {
     "data": {
      "text/plain": [
       "{4, 7, 33, 66}"
      ]
     },
     "execution_count": 19,
     "metadata": {},
     "output_type": "execute_result"
    }
   ],
   "source": [
    "a=[1,2,33,4,455,6,66,7]\n",
    "b=[1,1,22,2,2,3,44,455,6,44,88]\n",
    "\n",
    "s1=set(a)\n",
    "s2=set(b)\n",
    "\n",
    "s1.difference(s2)"
   ]
  },
  {
   "cell_type": "markdown",
   "id": "f2c1398b",
   "metadata": {},
   "source": [
    "23. Merge two lists."
   ]
  },
  {
   "cell_type": "code",
   "execution_count": 21,
   "id": "0dec2a5d",
   "metadata": {},
   "outputs": [
    {
     "data": {
      "text/plain": [
       "[1, 2, 33, 4, 455, 6, 66, 7, 1, 1, 22, 2, 2, 3, 44, 455, 6, 44, 88]"
      ]
     },
     "execution_count": 21,
     "metadata": {},
     "output_type": "execute_result"
    }
   ],
   "source": [
    "a=[1,2,33,4,455,6,66,7]\n",
    "b=[1,1,22,2,2,3,44,455,6,44,88]\n",
    "\n",
    "a+b"
   ]
  },
  {
   "cell_type": "markdown",
   "id": "43713dc8",
   "metadata": {},
   "source": [
    "24. Multiply all elements in a list by 2."
   ]
  },
  {
   "cell_type": "code",
   "execution_count": 24,
   "id": "fd7d06a6",
   "metadata": {},
   "outputs": [
    {
     "data": {
      "text/plain": [
       "[2, 4, 66, 8, 910, 12, 132, 14]"
      ]
     },
     "execution_count": 24,
     "metadata": {},
     "output_type": "execute_result"
    }
   ],
   "source": [
    "a=[1,2,33,4,455,6,66,7]\n",
    "b=[]\n",
    "for i in range(len(a)):\n",
    "    b.append(a[i]*2)\n",
    "    \n",
    "b"
   ]
  },
  {
   "cell_type": "markdown",
   "id": "21bf3d55",
   "metadata": {},
   "source": [
    "25. Filter out all even numbers from a list."
   ]
  },
  {
   "cell_type": "code",
   "execution_count": 1,
   "id": "359a4fda",
   "metadata": {},
   "outputs": [
    {
     "data": {
      "text/plain": [
       "[2, 4, 6, 66]"
      ]
     },
     "execution_count": 1,
     "metadata": {},
     "output_type": "execute_result"
    }
   ],
   "source": [
    "a=[1,2,33,4,455,6,66,7]\n",
    "b=[]\n",
    "for i in range(len(a)):\n",
    "    if (a[i] % 2 == 0):\n",
    "        b.append(a[i])\n",
    "\n",
    "b"
   ]
  },
  {
   "cell_type": "markdown",
   "id": "7fdbb22d",
   "metadata": {},
   "source": [
    "26. Convert a list of strings to a list of integers."
   ]
  },
  {
   "cell_type": "code",
   "execution_count": 2,
   "id": "43b4929d",
   "metadata": {},
   "outputs": [
    {
     "data": {
      "text/plain": [
       "[1, 2, 3]"
      ]
     },
     "execution_count": 2,
     "metadata": {},
     "output_type": "execute_result"
    }
   ],
   "source": [
    "a=[\"1\",\"2\",\"3\",'rohan']\n",
    "b=[]\n",
    "\n",
    "for i in range(len(a)):\n",
    "    if (a[i].isdigit()):\n",
    "        b.append(int(a[i]))\n",
    "        \n",
    "b\n"
   ]
  },
  {
   "cell_type": "markdown",
   "id": "085f5ea8",
   "metadata": {},
   "source": [
    "27. Convert a list of integers to a list of strings."
   ]
  },
  {
   "cell_type": "code",
   "execution_count": 7,
   "id": "38a8cc1c",
   "metadata": {},
   "outputs": [
    {
     "data": {
      "text/plain": [
       "['1', '2', '33', '4', '455', '6', '66', '7']"
      ]
     },
     "execution_count": 7,
     "metadata": {},
     "output_type": "execute_result"
    }
   ],
   "source": [
    "a=[1,2,33,4,455,6,66,7]\n",
    "b=[]\n",
    "for i in range(len(a)):\n",
    "    b.append(str(a[i]))\n",
    "    \n",
    "b"
   ]
  },
  {
   "cell_type": "markdown",
   "id": "0aa44056",
   "metadata": {},
   "source": [
    "28. Flatten a nested list."
   ]
  },
  {
   "cell_type": "code",
   "execution_count": 30,
   "id": "d721143d",
   "metadata": {},
   "outputs": [
    {
     "data": {
      "text/plain": [
       "[1, 2, 33, 4, 455, 6, 2, 3, 4, 5, 66, 22, 33, 44, 7]"
      ]
     },
     "execution_count": 30,
     "metadata": {},
     "output_type": "execute_result"
    }
   ],
   "source": [
    "a=[1,2,33,4,455,6,[2,3,4,5],66,[22,33,44],7]\n",
    "b=[]\n",
    "\n",
    "for i in range(len(a)):\n",
    "    if (type(a[i]) == list):\n",
    "        b.extend(a[i])\n",
    "    else:\n",
    "        b.append(a[i])\n",
    "    \n",
    "b"
   ]
  },
  {
   "cell_type": "markdown",
   "id": "6a7b84dc",
   "metadata": {},
   "source": [
    "29. Create a list of the first 10 Fibonacci numbers."
   ]
  },
  {
   "cell_type": "code",
   "execution_count": 32,
   "id": "cbe41d9d",
   "metadata": {},
   "outputs": [
    {
     "data": {
      "text/plain": [
       "[1, 1, 2, 3, 5, 8, 13, 21, 34]"
      ]
     },
     "execution_count": 32,
     "metadata": {},
     "output_type": "execute_result"
    }
   ],
   "source": [
    "n=10\n",
    "i=1\n",
    "x,y =0,1\n",
    "a=[]\n",
    "while (i<n):\n",
    "    a.append(y)\n",
    "    x,y =y,(x+y)\n",
    "    i= i+1\n",
    "    \n",
    "a\n",
    "    \n",
    "    \n",
    "    "
   ]
  },
  {
   "cell_type": "markdown",
   "id": "a0d4e760",
   "metadata": {},
   "source": [
    "30. Check if a list is sorted."
   ]
  },
  {
   "cell_type": "code",
   "execution_count": 56,
   "id": "1bd17c24",
   "metadata": {},
   "outputs": [
    {
     "name": "stdout",
     "output_type": "stream",
     "text": [
      "List is not sorted\n"
     ]
    }
   ],
   "source": [
    "a= [1,2,3,4,5,6,66,3,777,893]\n",
    "b=[]\n",
    "b=a[:]\n",
    "b.sort()\n",
    "\n",
    "if (a==b):\n",
    "    print(\"List is sorted\")\n",
    "else:\n",
    "    print(\"List is not sorted\")"
   ]
  },
  {
   "cell_type": "markdown",
   "id": "118a15d3",
   "metadata": {},
   "source": [
    "31. Rotate a list to the left by `n` positions."
   ]
  },
  {
   "cell_type": "code",
   "execution_count": 58,
   "id": "c55479ba",
   "metadata": {},
   "outputs": [
    {
     "name": "stdout",
     "output_type": "stream",
     "text": [
      "Enter the nth position to rotate the list to left : 3\n",
      "[4, 5, 6, 66, 3, 777, 893]\n",
      "[1, 2, 3]\n"
     ]
    },
    {
     "data": {
      "text/plain": [
       "[4, 5, 6, 66, 3, 777, 893, 1, 2, 3]"
      ]
     },
     "execution_count": 58,
     "metadata": {},
     "output_type": "execute_result"
    }
   ],
   "source": [
    "a= [1,2,3,4,5,6,66,3,777,893]\n",
    "n= int(input(\"Enter the nth position to rotate the list to left : \"))\n",
    "\n",
    "print(a[n:])\n",
    "print(a[:n])\n",
    "\n",
    "a= a[n:] + a[:n]\n",
    "a"
   ]
  },
  {
   "cell_type": "markdown",
   "id": "d0c33da1",
   "metadata": {},
   "source": [
    "32. Rotate a list to the right by `n` positions."
   ]
  },
  {
   "cell_type": "code",
   "execution_count": 61,
   "id": "8ae82e7a",
   "metadata": {},
   "outputs": [
    {
     "name": "stdout",
     "output_type": "stream",
     "text": [
      "Enter the nth position to rotate the list to right: 3\n",
      "[3, 777, 893]\n",
      "[1, 2, 3, 4, 5, 6, 66]\n"
     ]
    },
    {
     "data": {
      "text/plain": [
       "[3, 777, 893, 1, 2, 3, 4, 5, 6, 66]"
      ]
     },
     "execution_count": 61,
     "metadata": {},
     "output_type": "execute_result"
    }
   ],
   "source": [
    "a= [1,2,3,4,5,6,66,3,777,893]\n",
    "n= int(input(\"Enter the nth position to rotate the list to right: \"))\n",
    "\n",
    "print(a[-n:])\n",
    "print(a[:-n])\n",
    "\n",
    "a= a[-n:] + a[:-n]\n",
    "a"
   ]
  },
  {
   "cell_type": "markdown",
   "id": "29c395f1",
   "metadata": {},
   "source": [
    "33. Create a list of prime numbers up to 50."
   ]
  },
  {
   "cell_type": "code",
   "execution_count": 64,
   "id": "746e05dd",
   "metadata": {},
   "outputs": [
    {
     "data": {
      "text/plain": [
       "[1, 11, 13, 17, 19, 23, 29, 31, 37, 41, 43, 47]"
      ]
     },
     "execution_count": 64,
     "metadata": {},
     "output_type": "execute_result"
    }
   ],
   "source": [
    "a=[]\n",
    "for i in range(1,51):\n",
    "    if ((i%2!=0) and (i%3 != 0) and (i%5 !=0) and (i%7 != 0)):\n",
    "        a.append(i)\n",
    "        \n",
    "a        "
   ]
  },
  {
   "cell_type": "markdown",
   "id": "7697a4e9",
   "metadata": {},
   "source": [
    "34. Split a list into chunks of size `n`."
   ]
  },
  {
   "cell_type": "code",
   "execution_count": 81,
   "id": "46b588dd",
   "metadata": {},
   "outputs": [
    {
     "name": "stdout",
     "output_type": "stream",
     "text": [
      "Enter the size to split a list : 5\n",
      "List are :  [[1, 2, 3, 4, 5], [6, 66, 3, 777, 893]]\n"
     ]
    }
   ],
   "source": [
    "a= [1,2,3,4,5,6,66,3,777,893]\n",
    "n= int(input(\"Enter the size to split a list : \"))\n",
    "b=[]\n",
    "if (len(a)%n == 0):\n",
    "    for i in range(0,len(a),n):\n",
    "        b.append(a[i:i+n])\n",
    "    print(\"List are : \",b)\n",
    "else:\n",
    "    print(\"List cant be splitted\")\n"
   ]
  },
  {
   "cell_type": "markdown",
   "id": "46c37b81",
   "metadata": {},
   "source": [
    "35. Find the second largest number in a list."
   ]
  },
  {
   "cell_type": "code",
   "execution_count": 85,
   "id": "acb264e6",
   "metadata": {},
   "outputs": [
    {
     "name": "stdout",
     "output_type": "stream",
     "text": [
      "b :  [1, 2, 3, 4, 5, 6, 66, 3, 777, 893]\n",
      "sort b :  [1, 2, 3, 3, 4, 5, 6, 66, 777, 893]\n",
      "Second largest number in list is :  777\n"
     ]
    }
   ],
   "source": [
    "a= [1,2,3,4,5,6,66,3,777,893]\n",
    "b=a.copy()\n",
    "print(\"b : \",b)\n",
    "b.sort()\n",
    "print(\"sort b : \",b)\n",
    "\n",
    "print(\"Second largest number in list is : \" ,b[-2])"
   ]
  },
  {
   "cell_type": "markdown",
   "id": "7e06acb2",
   "metadata": {},
   "source": [
    "36. Replace every element in a list with its square."
   ]
  },
  {
   "cell_type": "code",
   "execution_count": 87,
   "id": "f7ef92ee",
   "metadata": {},
   "outputs": [
    {
     "data": {
      "text/plain": [
       "[1, 4, 9, 16, 25, 36, 4356, 9, 603729, 797449]"
      ]
     },
     "execution_count": 87,
     "metadata": {},
     "output_type": "execute_result"
    }
   ],
   "source": [
    "a= [1,2,3,4,5,6,66,3,777,893]\n",
    "\n",
    "for i in range(len(a)):\n",
    "    if (type(a[i] == int) or type(a[i] == float)):\n",
    "        a[i] = (a[i]*a[i])\n",
    "    else:\n",
    "        print(\"Operation cant be performed\")\n",
    "        \n",
    "a"
   ]
  },
  {
   "cell_type": "markdown",
   "id": "eec035ab",
   "metadata": {},
   "source": [
    "37. Convert a list to a dictionary where list elements become keys and their\n",
    "indices become values."
   ]
  },
  {
   "cell_type": "code",
   "execution_count": 88,
   "id": "98b0a660",
   "metadata": {},
   "outputs": [
    {
     "data": {
      "text/plain": [
       "{1: 0, 2: 1, 3: 7, 4: 3, 5: 4, 6: 5, 66: 6, 777: 8, 893: 9}"
      ]
     },
     "execution_count": 88,
     "metadata": {},
     "output_type": "execute_result"
    }
   ],
   "source": [
    "a= [1,2,3,4,5,6,66,3,777,893]\n",
    "d={}\n",
    "\n",
    "for i in range(len(a)):\n",
    "    d[a[i]]=i\n",
    "\n",
    "d"
   ]
  },
  {
   "cell_type": "markdown",
   "id": "c6cb5257",
   "metadata": {},
   "source": [
    "38. Shuffle the elements of a list randomly."
   ]
  },
  {
   "cell_type": "code",
   "execution_count": 115,
   "id": "37a57f15",
   "metadata": {},
   "outputs": [
    {
     "name": "stdout",
     "output_type": "stream",
     "text": [
      "Original List :  [1, 2, 3, 4, 5, 6, 66, 3, 777, 893]\n",
      "Random List :  [5, 6, 66, 3, 777, 893, 1, 2, 3, 4]\n"
     ]
    }
   ],
   "source": [
    "a= [1,2,3,4,5,6,66,3,777,893]\n",
    "b=[]\n",
    "import random\n",
    "#j=random.randint(1,len(a))\n",
    "print(\"Original List : \",a)\n",
    "i=0\n",
    "while (i < 20):\n",
    "    j=random.randint(1,100)\n",
    "    a = a[j:] + a[:j]\n",
    "    k = random.randint(1,len(a))\n",
    "    a = a[-(k):] + a[:(-k)]\n",
    "    i = i+1\n",
    "    \n",
    "print(\"Random List : \", a)"
   ]
  },
  {
   "cell_type": "markdown",
   "id": "9be85f13",
   "metadata": {},
   "source": [
    "39. Create a list of the first 10 factorial numbers."
   ]
  },
  {
   "cell_type": "code",
   "execution_count": 117,
   "id": "3d75d5ce",
   "metadata": {},
   "outputs": [
    {
     "data": {
      "text/plain": [
       "[1, 1, 2, 6, 24, 120, 720, 5040, 40320, 362880, 3628800]"
      ]
     },
     "execution_count": 117,
     "metadata": {},
     "output_type": "execute_result"
    }
   ],
   "source": [
    "a=[]\n",
    "for i in range(0,11):\n",
    "    if (i==0):\n",
    "        a.append(1)\n",
    "    else:\n",
    "        fact = 1\n",
    "        while (i>1):\n",
    "            fact = fact * i\n",
    "            i = i -1\n",
    "        a.append(fact)\n",
    "        \n",
    "a\n",
    "        \n",
    "            "
   ]
  },
  {
   "cell_type": "markdown",
   "id": "cd6ee3de",
   "metadata": {},
   "source": [
    "40. Check if two lists have at least one element in common."
   ]
  },
  {
   "cell_type": "code",
   "execution_count": 120,
   "id": "a92601fb",
   "metadata": {},
   "outputs": [
    {
     "name": "stdout",
     "output_type": "stream",
     "text": [
      "Two list does not have common element \n"
     ]
    }
   ],
   "source": [
    "a=[1,2,3]\n",
    "b=[11,22,33]\n",
    "s1= set(a)\n",
    "s2 = set(b)\n",
    "\n",
    "if (s1.intersection(s2) or s2.intersection(s1)):\n",
    "    print(\"Two list have at least one element in common\")\n",
    "else:\n",
    "    print(\"Two list does not have common element \")"
   ]
  },
  {
   "cell_type": "markdown",
   "id": "b03f5f94",
   "metadata": {},
   "source": [
    "41. Remove all elements from a list."
   ]
  },
  {
   "cell_type": "code",
   "execution_count": 121,
   "id": "7fef9b0d",
   "metadata": {},
   "outputs": [
    {
     "data": {
      "text/plain": [
       "[]"
      ]
     },
     "execution_count": 121,
     "metadata": {},
     "output_type": "execute_result"
    }
   ],
   "source": [
    "a= [1,2,3,4,5,6,66,3,777,893]\n",
    "a.clear()\n",
    "a"
   ]
  },
  {
   "cell_type": "markdown",
   "id": "3eb04ef6",
   "metadata": {},
   "source": [
    "42. Replace negative numbers in a list with 0."
   ]
  },
  {
   "cell_type": "code",
   "execution_count": 124,
   "id": "9a3e791a",
   "metadata": {},
   "outputs": [
    {
     "data": {
      "text/plain": [
       "[1, 2, 0, 4, 5, 6, 0, 3, 0, 893]"
      ]
     },
     "execution_count": 124,
     "metadata": {},
     "output_type": "execute_result"
    }
   ],
   "source": [
    "a= [1,2,-3,4,5,6,-66,3,-777,893]\n",
    "\n",
    "for i in range(len(a)):\n",
    "    if (a[i] < 0):\n",
    "        a[i]=0\n",
    "        \n",
    "a"
   ]
  },
  {
   "cell_type": "markdown",
   "id": "b8b1f1c2",
   "metadata": {},
   "source": [
    "43. Convert a string into a list of words.\n"
   ]
  },
  {
   "cell_type": "code",
   "execution_count": 125,
   "id": "48589f56",
   "metadata": {},
   "outputs": [
    {
     "data": {
      "text/plain": [
       "['Data', 'science', 'is', 'the', 'future']"
      ]
     },
     "execution_count": 125,
     "metadata": {},
     "output_type": "execute_result"
    }
   ],
   "source": [
    "sentence = \"Data science is the future\"\n",
    "a= sentence.split()\n",
    "a"
   ]
  },
  {
   "cell_type": "markdown",
   "id": "c270e62b",
   "metadata": {},
   "source": [
    "44. Convert a list of words into a string."
   ]
  },
  {
   "cell_type": "code",
   "execution_count": 129,
   "id": "ab221376",
   "metadata": {},
   "outputs": [
    {
     "data": {
      "text/plain": [
       "'Data science is the future'"
      ]
     },
     "execution_count": 129,
     "metadata": {},
     "output_type": "execute_result"
    }
   ],
   "source": [
    "a=['Data', 'science', 'is', 'the', 'future']\n",
    "sentence =''\n",
    "\n",
    "for i in range(len(a)):\n",
    "    sentence =  sentence + a[i] + \" \"\n",
    "sentence[:-1]\n"
   ]
  },
  {
   "cell_type": "markdown",
   "id": "b9329179",
   "metadata": {},
   "source": [
    "45. Create a list of the first `n` powers of 2."
   ]
  },
  {
   "cell_type": "code",
   "execution_count": 2,
   "id": "bfcd23ec",
   "metadata": {},
   "outputs": [
    {
     "name": "stdout",
     "output_type": "stream",
     "text": [
      "Enter the number to create list of power 2 : 5\n",
      "The list with power 2 is :  [1, 4, 9, 16, 25]\n"
     ]
    }
   ],
   "source": [
    "n= int(input(\"Enter the number to create list of power 2 : \"))\n",
    "a=[]\n",
    "\n",
    "for i in range(1,(n+1)):\n",
    "    a.append(i*i)\n",
    "    \n",
    "print(\"The list with power 2 is : \",a)"
   ]
  },
  {
   "cell_type": "markdown",
   "id": "1a9a4063",
   "metadata": {},
   "source": [
    "46. Find the longest string in a list of strings."
   ]
  },
  {
   "cell_type": "code",
   "execution_count": 9,
   "id": "a2d8266a",
   "metadata": {},
   "outputs": [
    {
     "data": {
      "text/plain": [
       "'elderberry'"
      ]
     },
     "execution_count": 9,
     "metadata": {},
     "output_type": "execute_result"
    }
   ],
   "source": [
    "string_list = [\"apple\", \"banana\", \"cherry\", \"date\", \"elderberry\"]\n",
    "max_1=\"\"\n",
    "for i in range(len(string_list)):\n",
    "    if (len(string_list[i]) > len(max_1)):\n",
    "        max_1 = string_list[i]\n",
    "        \n",
    "max_1"
   ]
  },
  {
   "cell_type": "markdown",
   "id": "69caa7af",
   "metadata": {},
   "source": [
    "47. Find the shortest string in a list of strings."
   ]
  },
  {
   "cell_type": "code",
   "execution_count": 13,
   "id": "4d1ce85e",
   "metadata": {},
   "outputs": [
    {
     "data": {
      "text/plain": [
       "'date'"
      ]
     },
     "execution_count": 13,
     "metadata": {},
     "output_type": "execute_result"
    }
   ],
   "source": [
    "string_list = [\"apple\", \"banana\", \"cherry\", \"date\", \"elderberry\"]\n",
    "short = string_list[0]\n",
    "\n",
    "for i in range(len(string_list)):\n",
    "    if(len(string_list[i]) < len(short)):\n",
    "        short = string_list[i]\n",
    "        \n",
    "short"
   ]
  },
  {
   "cell_type": "markdown",
   "id": "2ede69aa",
   "metadata": {},
   "source": [
    "48. Create a list of the first `n` triangular numbers."
   ]
  },
  {
   "cell_type": "code",
   "execution_count": 20,
   "id": "201e5395",
   "metadata": {},
   "outputs": [
    {
     "name": "stdout",
     "output_type": "stream",
     "text": [
      "Enter the nth number to create the list of traingular number: 5\n"
     ]
    },
    {
     "data": {
      "text/plain": [
       "[1, 3, 6, 10, 15]"
      ]
     },
     "execution_count": 20,
     "metadata": {},
     "output_type": "execute_result"
    }
   ],
   "source": [
    "n= int(input(\"Enter the nth number to create the list of traingular number: \"))\n",
    "a=[]\n",
    "for i in range(1,n+1):\n",
    "    a.append(int((i*(i+1)/2)))\n",
    "a              "
   ]
  },
  {
   "cell_type": "markdown",
   "id": "fa160cb4",
   "metadata": {},
   "source": [
    "49. Check if a list contains another list as a subsequence."
   ]
  },
  {
   "cell_type": "code",
   "execution_count": 23,
   "id": "a1406e5a",
   "metadata": {},
   "outputs": [
    {
     "name": "stdout",
     "output_type": "stream",
     "text": [
      "List is not subsequence\n"
     ]
    }
   ],
   "source": [
    "a = [1, 2, 3, 4, 5, 6, 7, 8, 9, 10]\n",
    "b =[33,53,83]\n",
    "c=[]\n",
    "for i in range(len(b)):\n",
    "    for j in range(len(a)):\n",
    "        if b[i] == a[j]:\n",
    "            c.append(1)\n",
    "if len(c)> 1:\n",
    "    print(\"List is a Subsequence\")\n",
    "else:\n",
    "    print(\"List is not subsequence\")"
   ]
  },
  {
   "cell_type": "markdown",
   "id": "8a2adf0d",
   "metadata": {},
   "source": [
    "50. Swap two elements in a list by their indices."
   ]
  },
  {
   "cell_type": "code",
   "execution_count": 26,
   "id": "228b7ff1",
   "metadata": {},
   "outputs": [
    {
     "name": "stdout",
     "output_type": "stream",
     "text": [
      "Enter value of index to swap : 1\n",
      "Enter index to swap with : 5\n",
      "Original list :  [1, 2, 3, 4, 5, 6, 7, 8, 9, 10]\n",
      "List after swap :  [1, 6, 3, 4, 5, 2, 7, 8, 9, 10]\n"
     ]
    }
   ],
   "source": [
    "a = [1, 2, 3, 4, 5, 6, 7, 8, 9, 10]\n",
    "m = int(input(\"Enter value of index to swap : \"))\n",
    "n= int(input(\"Enter index to swap with : \"))\n",
    "print(\"Original list : \",a)\n",
    "a[m],a[n] = a[n],a[m]\n",
    "print(\"List after swap : \",a)"
   ]
  },
  {
   "cell_type": "code",
   "execution_count": null,
   "id": "54e500d8",
   "metadata": {},
   "outputs": [],
   "source": []
  },
  {
   "cell_type": "markdown",
   "id": "4d1f4379",
   "metadata": {},
   "source": [
    "# Tuple Based Practice Problem :"
   ]
  },
  {
   "cell_type": "markdown",
   "id": "e53c7e24",
   "metadata": {},
   "source": [
    "1. Create a tuple with integers from 1 to 5."
   ]
  },
  {
   "cell_type": "code",
   "execution_count": 27,
   "id": "5f6ccd74",
   "metadata": {},
   "outputs": [
    {
     "name": "stdout",
     "output_type": "stream",
     "text": [
      "Type of t <class 'tuple'>\n"
     ]
    },
    {
     "data": {
      "text/plain": [
       "(1, 2, 3, 4, 5)"
      ]
     },
     "execution_count": 27,
     "metadata": {},
     "output_type": "execute_result"
    }
   ],
   "source": [
    "a = [1,2,3,4,5]\n",
    "t= tuple(a)\n",
    "print(\"Type of t\", type(t))\n",
    "t"
   ]
  },
  {
   "cell_type": "markdown",
   "id": "54102809",
   "metadata": {},
   "source": [
    "2. Access the third element of a tuple."
   ]
  },
  {
   "cell_type": "code",
   "execution_count": 28,
   "id": "2cd4b8ba",
   "metadata": {},
   "outputs": [
    {
     "name": "stdout",
     "output_type": "stream",
     "text": [
      "Third element in a tuple is :  3\n"
     ]
    }
   ],
   "source": [
    "t = [1,2,3,4,5]\n",
    "print(\"Third element in a tuple is : \",t[2])"
   ]
  },
  {
   "cell_type": "markdown",
   "id": "71c07002",
   "metadata": {},
   "source": [
    "3. Find the length of a tuple without using the `len()` function."
   ]
  },
  {
   "cell_type": "code",
   "execution_count": 29,
   "id": "1abb60a9",
   "metadata": {},
   "outputs": [
    {
     "data": {
      "text/plain": [
       "5"
      ]
     },
     "execution_count": 29,
     "metadata": {},
     "output_type": "execute_result"
    }
   ],
   "source": [
    "t = [1,2,3,4,5]\n",
    "count =0\n",
    "\n",
    "for i in t:\n",
    "    count = count +1\n",
    "    \n",
    "count"
   ]
  },
  {
   "cell_type": "markdown",
   "id": "87a74588",
   "metadata": {},
   "source": [
    "4. Count the occurrences of an element in a tuple."
   ]
  },
  {
   "cell_type": "code",
   "execution_count": 32,
   "id": "a5393ef5",
   "metadata": {},
   "outputs": [
    {
     "name": "stdout",
     "output_type": "stream",
     "text": [
      "Enter the element to count the occurences : 2\n",
      "The occurence of element enter is :  4\n"
     ]
    }
   ],
   "source": [
    "t = (1,2,3,4,5,2,2,2,1)\n",
    "n = int(input(\"Enter the element to count the occurences : \"))\n",
    "count =0\n",
    "for i in range(len(t)):\n",
    "    if(t[i] == n):\n",
    "        count= count + 1\n",
    "\n",
    "print(\"The occurence of element enter is : \", count)"
   ]
  },
  {
   "cell_type": "markdown",
   "id": "dc30d66a",
   "metadata": {},
   "source": [
    "5. Find the index of the first occurrence of an element in a tuple."
   ]
  },
  {
   "cell_type": "code",
   "execution_count": 35,
   "id": "a7cfd845",
   "metadata": {},
   "outputs": [
    {
     "name": "stdout",
     "output_type": "stream",
     "text": [
      "Enter the element to count the occurences : 2\n"
     ]
    },
    {
     "data": {
      "text/plain": [
       "1"
      ]
     },
     "execution_count": 35,
     "metadata": {},
     "output_type": "execute_result"
    }
   ],
   "source": [
    "t = (1,2,3,4,5,2,2,2,1)\n",
    "n = int(input(\"Enter the element to count the occurences : \"))\n",
    "t.index(n)"
   ]
  },
  {
   "cell_type": "markdown",
   "id": "9495d90c",
   "metadata": {},
   "source": [
    "6. Check if an element exists in a tuple."
   ]
  },
  {
   "cell_type": "code",
   "execution_count": 37,
   "id": "75a969d8",
   "metadata": {},
   "outputs": [
    {
     "name": "stdout",
     "output_type": "stream",
     "text": [
      "Enter the element to check if it exist in tuple : 22\n",
      "Element does not exist \n"
     ]
    }
   ],
   "source": [
    "t = (1,2,3,4,5,2,2,2,1)\n",
    "n = int(input(\"Enter the element to check if it exist in tuple : \"))\n",
    "\n",
    "if (t.count(n)>1):\n",
    "    print(\"Element Exist \")\n",
    "else:\n",
    "    print(\"Element does not exist \")\n",
    "    \n"
   ]
  },
  {
   "cell_type": "markdown",
   "id": "489c3908",
   "metadata": {},
   "source": [
    "7. Convert a tuple to a list."
   ]
  },
  {
   "cell_type": "code",
   "execution_count": 2,
   "id": "0f447b2a",
   "metadata": {},
   "outputs": [
    {
     "data": {
      "text/plain": [
       "list"
      ]
     },
     "execution_count": 2,
     "metadata": {},
     "output_type": "execute_result"
    }
   ],
   "source": [
    "t = (1,2,3,4,5,2,2,2,1)\n",
    "l = list(t)\n",
    "type(l)"
   ]
  },
  {
   "cell_type": "markdown",
   "id": "a35d6a82",
   "metadata": {},
   "source": [
    "8. Convert a list to a tuple."
   ]
  },
  {
   "cell_type": "code",
   "execution_count": 4,
   "id": "55c05dd6",
   "metadata": {},
   "outputs": [
    {
     "name": "stdout",
     "output_type": "stream",
     "text": [
      "<class 'list'>\n",
      "<class 'tuple'>\n"
     ]
    }
   ],
   "source": [
    "l = [1, 2, 3, 4, 5, 2, 2, 2, 1]\n",
    "print(type(l))\n",
    "t= tuple(l)\n",
    "print(type(t))"
   ]
  },
  {
   "cell_type": "markdown",
   "id": "660eb42f",
   "metadata": {},
   "source": [
    "9. Unpack the elements of a tuple into variables."
   ]
  },
  {
   "cell_type": "code",
   "execution_count": 5,
   "id": "1edcffa8",
   "metadata": {},
   "outputs": [
    {
     "name": "stdout",
     "output_type": "stream",
     "text": [
      "1\n",
      "2\n",
      "3\n"
     ]
    }
   ],
   "source": [
    "t=(1,2,3)\n",
    "\n",
    "(x1,x2,x3) = t\n",
    "print(x1)\n",
    "print(x2)\n",
    "print(x3)"
   ]
  },
  {
   "cell_type": "markdown",
   "id": "3b8a3c8f",
   "metadata": {},
   "source": [
    "10. Create a tuple of even numbers from 1 to 10."
   ]
  },
  {
   "cell_type": "code",
   "execution_count": 7,
   "id": "d481d284",
   "metadata": {},
   "outputs": [
    {
     "name": "stdout",
     "output_type": "stream",
     "text": [
      "Tuple with even number :  (0, 2, 4, 6, 8, 10)\n"
     ]
    }
   ],
   "source": [
    "a=[]\n",
    "for i in range(0,11):\n",
    "    if(i%2 == 0):\n",
    "        a.append(i)\n",
    "t = tuple(a)\n",
    "print(\"Tuple with even number : \",t)"
   ]
  },
  {
   "cell_type": "markdown",
   "id": "7f65ca53",
   "metadata": {},
   "source": [
    "11. Create a tuple of odd numbers from 1 to 10."
   ]
  },
  {
   "cell_type": "code",
   "execution_count": 8,
   "id": "0316185e",
   "metadata": {},
   "outputs": [
    {
     "name": "stdout",
     "output_type": "stream",
     "text": [
      "Tuple with odd number :  (1, 3, 5, 7, 9)\n"
     ]
    }
   ],
   "source": [
    "a=[]\n",
    "for i in range(0,11):\n",
    "    if(i%2 != 0):\n",
    "        a.append(i)\n",
    "t = tuple(a)\n",
    "print(\"Tuple with odd number : \",t)"
   ]
  },
  {
   "cell_type": "markdown",
   "id": "84f7c493",
   "metadata": {},
   "source": [
    "12. Concatenate two tuples."
   ]
  },
  {
   "cell_type": "code",
   "execution_count": 10,
   "id": "7d3fc2dd",
   "metadata": {},
   "outputs": [
    {
     "data": {
      "text/plain": [
       "(1, 2, 3, 4, 11, 22, 33, 44)"
      ]
     },
     "execution_count": 10,
     "metadata": {},
     "output_type": "execute_result"
    }
   ],
   "source": [
    "t1=(1,2,3,4)\n",
    "t2=(11,22,33,44)\n",
    "t3 = t1 + t2"
   ]
  },
  {
   "cell_type": "markdown",
   "id": "61a52f0c",
   "metadata": {},
   "source": [
    "13. Repeat a tuple three times."
   ]
  },
  {
   "cell_type": "code",
   "execution_count": 11,
   "id": "104c09c6",
   "metadata": {},
   "outputs": [
    {
     "name": "stdout",
     "output_type": "stream",
     "text": [
      "(1, 2, 3, 4, 1, 2, 3, 4, 1, 2, 3, 4)\n"
     ]
    }
   ],
   "source": [
    "t1 = (1,2,3,4)\n",
    "t3 = t1 *3\n",
    "print(t3)"
   ]
  },
  {
   "cell_type": "markdown",
   "id": "72b4e7f9",
   "metadata": {},
   "source": [
    "14. Check if a tuple is empty."
   ]
  },
  {
   "cell_type": "code",
   "execution_count": 12,
   "id": "38b62cd6",
   "metadata": {},
   "outputs": [
    {
     "name": "stdout",
     "output_type": "stream",
     "text": [
      "Tuple is not empty\n"
     ]
    }
   ],
   "source": [
    "t1 = (1,2,3,4)\n",
    "\n",
    "if (len(t1) == 0):\n",
    "    print(\"Tuple is empty\")\n",
    "else:\n",
    "    print(\"Tuple is not empty\")"
   ]
  },
  {
   "cell_type": "markdown",
   "id": "655894f8",
   "metadata": {},
   "source": [
    "15. Create a nested tuple."
   ]
  },
  {
   "cell_type": "code",
   "execution_count": 13,
   "id": "627bcbcc",
   "metadata": {},
   "outputs": [
    {
     "data": {
      "text/plain": [
       "((1, 2, 3, 4), (11, 22, 33, 44))"
      ]
     },
     "execution_count": 13,
     "metadata": {},
     "output_type": "execute_result"
    }
   ],
   "source": [
    "t1=(1,2,3,4)\n",
    "t2=(11,22,33,44)\n",
    "t3 =(t1,t2)\n",
    "t3"
   ]
  },
  {
   "cell_type": "markdown",
   "id": "d7005184",
   "metadata": {},
   "source": [
    "16. Access the first element of a nested tuple."
   ]
  },
  {
   "cell_type": "code",
   "execution_count": 16,
   "id": "b0c11151",
   "metadata": {},
   "outputs": [
    {
     "name": "stdout",
     "output_type": "stream",
     "text": [
      "First element of nested tuple:  (1, 2, 3, 4)\n"
     ]
    }
   ],
   "source": [
    "t3 =((1, 2, 3, 4), (11, 22, 33, 44), ('a',\"b\"))\n",
    "\n",
    "print(\"First element of nested tuple: \",t3[0])"
   ]
  },
  {
   "cell_type": "markdown",
   "id": "08054842",
   "metadata": {},
   "source": [
    "17. Create a tuple with a single element."
   ]
  },
  {
   "cell_type": "code",
   "execution_count": 18,
   "id": "53f572f0",
   "metadata": {},
   "outputs": [
    {
     "name": "stdout",
     "output_type": "stream",
     "text": [
      "<class 'tuple'>\n",
      "1\n"
     ]
    }
   ],
   "source": [
    "a=(2,)\n",
    "print(type(a))\n",
    "print(len(a))"
   ]
  },
  {
   "cell_type": "markdown",
   "id": "4bab167f",
   "metadata": {},
   "source": [
    "18. Compare two tuples."
   ]
  },
  {
   "cell_type": "code",
   "execution_count": 19,
   "id": "d7580ea5",
   "metadata": {},
   "outputs": [
    {
     "name": "stdout",
     "output_type": "stream",
     "text": [
      "t1 == t2 : False\n",
      "t1 != t2 : True\n",
      "t1 < t2 : True\n",
      "t1 > t2 : False\n"
     ]
    }
   ],
   "source": [
    "t1=(1,2,3,4)\n",
    "t2=(11,22,33,44)\n",
    "\n",
    "print(\"t1 == t2 :\",(t1 == t2))\n",
    "print(\"t1 != t2 :\",(t1 != t2))\n",
    "print(\"t1 < t2 :\",(t1 < t2))\n",
    "print(\"t1 > t2 :\",(t1 > t2))"
   ]
  },
  {
   "cell_type": "markdown",
   "id": "9bbc4b5a",
   "metadata": {},
   "source": [
    "19. Delete a tuple."
   ]
  },
  {
   "cell_type": "code",
   "execution_count": 21,
   "id": "fc7f8400",
   "metadata": {},
   "outputs": [
    {
     "name": "stdout",
     "output_type": "stream",
     "text": [
      "t1 (1, 2, 3, 4)\n"
     ]
    },
    {
     "ename": "NameError",
     "evalue": "name 't1' is not defined",
     "output_type": "error",
     "traceback": [
      "\u001b[1;31m---------------------------------------------------------------------------\u001b[0m",
      "\u001b[1;31mNameError\u001b[0m                                 Traceback (most recent call last)",
      "\u001b[1;32mC:\\Users\\ROHANS~1\\AppData\\Local\\Temp/ipykernel_142984/823360965.py\u001b[0m in \u001b[0;36m<module>\u001b[1;34m\u001b[0m\n\u001b[0;32m      3\u001b[0m \u001b[1;32mdel\u001b[0m\u001b[1;33m(\u001b[0m\u001b[0mt1\u001b[0m\u001b[1;33m)\u001b[0m\u001b[1;33m\u001b[0m\u001b[1;33m\u001b[0m\u001b[0m\n\u001b[0;32m      4\u001b[0m \u001b[1;33m\u001b[0m\u001b[0m\n\u001b[1;32m----> 5\u001b[1;33m \u001b[0mt1\u001b[0m\u001b[1;33m\u001b[0m\u001b[1;33m\u001b[0m\u001b[0m\n\u001b[0m",
      "\u001b[1;31mNameError\u001b[0m: name 't1' is not defined"
     ]
    }
   ],
   "source": [
    "t1=(1,2,3,4)\n",
    "print(\"t1\", t1)\n",
    "del(t1)\n",
    "\n",
    "t1"
   ]
  },
  {
   "cell_type": "markdown",
   "id": "e27869f1",
   "metadata": {},
   "source": [
    "20. Slice a tuple."
   ]
  },
  {
   "cell_type": "code",
   "execution_count": 23,
   "id": "a3d1d0ca",
   "metadata": {},
   "outputs": [
    {
     "name": "stdout",
     "output_type": "stream",
     "text": [
      "Slice of tuple t1 :  (1, 2, 3)\n"
     ]
    }
   ],
   "source": [
    "t1=(1,2,3,4,11,22,33,44,\"a\",\"b\",\"c\",\"d\")\n",
    "\n",
    "print(\"Slice of tuple t1 : \",t1[:3])"
   ]
  },
  {
   "cell_type": "markdown",
   "id": "30023b8d",
   "metadata": {},
   "source": [
    "21. Find the maximum value in a tuple."
   ]
  },
  {
   "cell_type": "code",
   "execution_count": 33,
   "id": "54ae6c77",
   "metadata": {},
   "outputs": [
    {
     "name": "stdout",
     "output_type": "stream",
     "text": [
      "Max value in tuple t1 :  333.7\n"
     ]
    }
   ],
   "source": [
    "t1=(1,2,3,4,11,22,333.7,44,\"a\",\"b\",\"c\",\"d\")\n",
    "\n",
    "def max_val_tuple(x):\n",
    "    max1=0\n",
    "    if (type(x) == tuple):\n",
    "        for i in range(len(x)):\n",
    "            if(type(x[i]) != str ):\n",
    "                if (x[i] > max1 ):\n",
    "                    max1=x[i]\n",
    "                \n",
    "        return max1\n",
    "                \n",
    "    else:\n",
    "        return (\"Invalid datatype , pass seq as tuple \")\n",
    "\n",
    "print(\"Max value in tuple t1 : \", max_val_tuple(t1))\n",
    "    "
   ]
  },
  {
   "cell_type": "markdown",
   "id": "b4176115",
   "metadata": {},
   "source": [
    "22. Find the minimum value in a tuple."
   ]
  },
  {
   "cell_type": "code",
   "execution_count": 36,
   "id": "f9b2cc0b",
   "metadata": {},
   "outputs": [
    {
     "name": "stdout",
     "output_type": "stream",
     "text": [
      "Max value in tuple t1 :  1\n"
     ]
    }
   ],
   "source": [
    "t1=(1,2,3,4,11,22,333.7,44,\"a\",\"b\",\"c\",\"d\")\n",
    "\n",
    "def min_val_tuple(x):\n",
    "    min1=x[0]\n",
    "    if (type(x) == tuple):\n",
    "        for i in range(len(x)):\n",
    "            if(type(x[i]) != str ):\n",
    "                if (x[i] < min1 ):\n",
    "                    min1=x[i]\n",
    "                \n",
    "        return min1\n",
    "                \n",
    "    else:\n",
    "        return (\"Invalid datatype , pass seq as tuple \")\n",
    "\n",
    "print(\"Max value in tuple t1 : \", min_val_tuple(t1))\n",
    "    "
   ]
  },
  {
   "cell_type": "markdown",
   "id": "dbba8ab8",
   "metadata": {},
   "source": [
    "23. Convert a string to a tuple of characters."
   ]
  },
  {
   "cell_type": "code",
   "execution_count": 37,
   "id": "00693cea",
   "metadata": {},
   "outputs": [
    {
     "data": {
      "text/plain": [
       "('r', 'o', 'h', 'a', 'n')"
      ]
     },
     "execution_count": 37,
     "metadata": {},
     "output_type": "execute_result"
    }
   ],
   "source": [
    "string = \"rohan\"\n",
    "t1 = tuple(string)\n",
    "t1"
   ]
  },
  {
   "cell_type": "markdown",
   "id": "3fdeab17",
   "metadata": {},
   "source": [
    "24. Convert a tuple of characters to a string."
   ]
  },
  {
   "cell_type": "code",
   "execution_count": 39,
   "id": "9f12903c",
   "metadata": {},
   "outputs": [
    {
     "data": {
      "text/plain": [
       "'rohan'"
      ]
     },
     "execution_count": 39,
     "metadata": {},
     "output_type": "execute_result"
    }
   ],
   "source": [
    "t1 = ('r', 'o', 'h', 'a', 'n')\n",
    "string=''\n",
    "for i in range(len(t1)):\n",
    "    string = string + t1[i]\n",
    "    \n",
    "string"
   ]
  },
  {
   "cell_type": "markdown",
   "id": "652838ae",
   "metadata": {},
   "source": [
    "25. Create a tuple from multiple data types."
   ]
  },
  {
   "cell_type": "code",
   "execution_count": 40,
   "id": "27694b64",
   "metadata": {},
   "outputs": [
    {
     "data": {
      "text/plain": [
       "tuple"
      ]
     },
     "execution_count": 40,
     "metadata": {},
     "output_type": "execute_result"
    }
   ],
   "source": [
    "mixed_tuple = (1, \"hello\", 3.14, True)\n",
    "type(mixed_tuple)"
   ]
  },
  {
   "cell_type": "markdown",
   "id": "e83ec3e7",
   "metadata": {},
   "source": [
    "26. Check if two tuples are identical."
   ]
  },
  {
   "cell_type": "code",
   "execution_count": 42,
   "id": "81728552",
   "metadata": {},
   "outputs": [
    {
     "name": "stdout",
     "output_type": "stream",
     "text": [
      "Tuples are identical\n"
     ]
    }
   ],
   "source": [
    "t1=(1,2,3,4)\n",
    "t2=(1,2,3,4)\n",
    "\n",
    "if (t1 == t2):\n",
    "    print(\"Tuples are identical\")\n",
    "else:\n",
    "    print(\"Tuples are not identical\")"
   ]
  },
  {
   "cell_type": "markdown",
   "id": "c3f683d2",
   "metadata": {},
   "source": [
    "27. Sort the elements of a tuple."
   ]
  },
  {
   "cell_type": "code",
   "execution_count": 44,
   "id": "1434877c",
   "metadata": {},
   "outputs": [
    {
     "data": {
      "text/plain": [
       "(2, 4, 11, 33)"
      ]
     },
     "execution_count": 44,
     "metadata": {},
     "output_type": "execute_result"
    }
   ],
   "source": [
    "t1=(11,2,33,4)\n",
    "l = list(t1)\n",
    "l.sort()\n",
    "t1= tuple(l)\n",
    "t1"
   ]
  },
  {
   "cell_type": "markdown",
   "id": "6572d16f",
   "metadata": {},
   "source": [
    "28. Convert a tuple of integers to a tuple of strings."
   ]
  },
  {
   "cell_type": "code",
   "execution_count": 47,
   "id": "0140a22a",
   "metadata": {},
   "outputs": [
    {
     "data": {
      "text/plain": [
       "('1', '2', '3', '4')"
      ]
     },
     "execution_count": 47,
     "metadata": {},
     "output_type": "execute_result"
    }
   ],
   "source": [
    "t1=(1,2,3,4)\n",
    "l = list()\n",
    "\n",
    "for i in range(len(t1)):\n",
    "    l.append(str(t1[i]))\n",
    "    \n",
    "t3 = tuple(l)\n",
    "t3"
   ]
  },
  {
   "cell_type": "markdown",
   "id": "73dd18c9",
   "metadata": {},
   "source": [
    "29. Convert a tuple of strings to a tuple of integers."
   ]
  },
  {
   "cell_type": "code",
   "execution_count": 49,
   "id": "e193744a",
   "metadata": {},
   "outputs": [
    {
     "data": {
      "text/plain": [
       "(1, 2, 3, 4)"
      ]
     },
     "execution_count": 49,
     "metadata": {},
     "output_type": "execute_result"
    }
   ],
   "source": [
    "t1 =('1', '2', '3', '4')\n",
    "l = list()\n",
    "\n",
    "for i in range(len(t1)):\n",
    "    l.append(int(t1[i]))\n",
    "    \n",
    "t3 = tuple(l)\n",
    "t3"
   ]
  },
  {
   "cell_type": "markdown",
   "id": "c963600c",
   "metadata": {},
   "source": [
    "30. Merge two tuples."
   ]
  },
  {
   "cell_type": "code",
   "execution_count": 51,
   "id": "2a5eddab",
   "metadata": {},
   "outputs": [
    {
     "data": {
      "text/plain": [
       "(1, 2, 3, 4, 1, 2, 3, 4)"
      ]
     },
     "execution_count": 51,
     "metadata": {},
     "output_type": "execute_result"
    }
   ],
   "source": [
    "t1=(1,2,3,4)\n",
    "t2=(1,2,3,4)\n",
    "t3 =t1 + t2\n",
    "t3"
   ]
  },
  {
   "cell_type": "markdown",
   "id": "9b85c9a5",
   "metadata": {},
   "source": [
    "31. Flatten a nested tuple."
   ]
  },
  {
   "cell_type": "code",
   "execution_count": 5,
   "id": "5a41fb1e",
   "metadata": {},
   "outputs": [
    {
     "name": "stdout",
     "output_type": "stream",
     "text": [
      "Flattened tuple: (1, 2, 3, 4, 5, 6, 7, 8)\n"
     ]
    }
   ],
   "source": [
    "def flatten_tuple(nested_tuple):\n",
    "    flattened = []\n",
    "    for item in nested_tuple:\n",
    "        if isinstance(item, tuple):\n",
    "            flattened.extend(flatten_tuple(item))\n",
    "        else:\n",
    "            flattened.append(item)\n",
    "    return flattened\n",
    "\n",
    "# Step 1: Create a nested tuple\n",
    "nested_tuple = ((1, 2), (3, 4, 5), (6, (7, 8)))\n",
    "\n",
    "# Step 2: Flatten the nested tuple\n",
    "flattened_tuple = tuple(flatten_tuple(nested_tuple))\n",
    "\n",
    "# Step 3: Print the flattened tuple\n",
    "print(\"Flattened tuple:\", flattened_tuple)"
   ]
  },
  {
   "cell_type": "markdown",
   "id": "220404ad",
   "metadata": {},
   "source": [
    "32. Create a tuple of the first 5 prime numbers."
   ]
  },
  {
   "cell_type": "code",
   "execution_count": 15,
   "id": "43021796",
   "metadata": {},
   "outputs": [
    {
     "name": "stdout",
     "output_type": "stream",
     "text": [
      "Tuple of the first 5 prime numbers: (2, 3, 5, 7, 11)\n"
     ]
    }
   ],
   "source": [
    "def is_prime(num):\n",
    "    if num <= 1:\n",
    "        return False\n",
    "    for i in range(2, int(num ** 0.5) + 1):\n",
    "        if num % i == 0:\n",
    "            return False\n",
    "    return True\n",
    "\n",
    "# Generate the first 5 prime numbers\n",
    "prime_numbers_list = [num for num in range(2, 100) if is_prime(num)][:5]\n",
    "\n",
    "# Convert the list to a tuple\n",
    "prime_numbers_tuple = tuple(prime_numbers_list)\n",
    "\n",
    "# Print the tuple of prime numbers\n",
    "print(\"Tuple of the first 5 prime numbers:\", prime_numbers_tuple)"
   ]
  },
  {
   "cell_type": "markdown",
   "id": "3e2d68d0",
   "metadata": {},
   "source": [
    "33. Check if a tuple is a palindrome."
   ]
  },
  {
   "cell_type": "code",
   "execution_count": 14,
   "id": "cb8da687",
   "metadata": {},
   "outputs": [
    {
     "name": "stdout",
     "output_type": "stream",
     "text": [
      "Tuple is not palindrome \n"
     ]
    }
   ],
   "source": [
    "t1 =(1,2,3,2,1,66)\n",
    "t2 = t1[::-1]\n",
    "\n",
    "if (t1 == t2):\n",
    "    print(\"Tuple is Palindrome \")\n",
    "else:\n",
    "    print(\"Tuple is not palindrome \")"
   ]
  },
  {
   "cell_type": "markdown",
   "id": "30cdf82d",
   "metadata": {},
   "source": [
    "34. Create a tuple of squares of numbers from 1 to 5."
   ]
  },
  {
   "cell_type": "code",
   "execution_count": 16,
   "id": "04c56cd0",
   "metadata": {},
   "outputs": [
    {
     "data": {
      "text/plain": [
       "(1, 4, 9, 16, 25)"
      ]
     },
     "execution_count": 16,
     "metadata": {},
     "output_type": "execute_result"
    }
   ],
   "source": [
    "a=[]\n",
    "for i in range(1,6):\n",
    "    a.append(i*i)\n",
    "t = tuple(a)\n",
    "t"
   ]
  },
  {
   "cell_type": "markdown",
   "id": "82f60b9d",
   "metadata": {},
   "source": [
    "35. Filter out all even numbers from a tuple."
   ]
  },
  {
   "cell_type": "code",
   "execution_count": 19,
   "id": "f967ebc9",
   "metadata": {},
   "outputs": [
    {
     "data": {
      "text/plain": [
       "(1, 9, 25)"
      ]
     },
     "execution_count": 19,
     "metadata": {},
     "output_type": "execute_result"
    }
   ],
   "source": [
    "t= (1, 4, 9, 16, 25)\n",
    "a=[]\n",
    "for i in range(len(t)):\n",
    "    if (t[i]%2 != 0):\n",
    "        a.append(t[i])\n",
    "t2 =tuple(a)\n",
    "t2"
   ]
  },
  {
   "cell_type": "markdown",
   "id": "04f08105",
   "metadata": {},
   "source": [
    "36. Multiply all elements in a tuple by 2."
   ]
  },
  {
   "cell_type": "code",
   "execution_count": 20,
   "id": "79c264f5",
   "metadata": {},
   "outputs": [
    {
     "data": {
      "text/plain": [
       "(2, 8, 18, 32, 50)"
      ]
     },
     "execution_count": 20,
     "metadata": {},
     "output_type": "execute_result"
    }
   ],
   "source": [
    "t= (1, 4, 9, 16, 25)\n",
    "t2 = tuple(i*2  for i in t)\n",
    "t2"
   ]
  },
  {
   "cell_type": "markdown",
   "id": "b67690c2",
   "metadata": {},
   "source": [
    "37. Create a tuple of random numbers."
   ]
  },
  {
   "cell_type": "code",
   "execution_count": 21,
   "id": "ee6d07bf",
   "metadata": {},
   "outputs": [
    {
     "name": "stdout",
     "output_type": "stream",
     "text": [
      "Enter the length of tuple : 5\n",
      "Enter the 1 value of tuple : 22\n",
      "Enter the 2 value of tuple : 33\n",
      "Enter the 3 value of tuple : 44\n",
      "Enter the 4 value of tuple : 55\n",
      "Enter the 5 value of tuple : 66\n",
      "Random tuple :  (22, 33, 44, 55, 66)\n"
     ]
    }
   ],
   "source": [
    "def tuple_random(n):\n",
    "    a=[]\n",
    "    for i in range(1,(n+1)):\n",
    "        a.append(int(input(f\"Enter the {i} value of tuple : \")))\n",
    "        \n",
    "    return tuple(a)\n",
    "\n",
    "m = int(input(\"Enter the length of tuple : \"))\n",
    "print(\"Random tuple : \",tuple_random(m))"
   ]
  },
  {
   "cell_type": "markdown",
   "id": "b0830cde",
   "metadata": {},
   "source": [
    "38. Check if a tuple is sorted."
   ]
  },
  {
   "cell_type": "code",
   "execution_count": 24,
   "id": "4c4c0791",
   "metadata": {},
   "outputs": [
    {
     "data": {
      "text/plain": [
       "True"
      ]
     },
     "execution_count": 24,
     "metadata": {},
     "output_type": "execute_result"
    }
   ],
   "source": [
    "t=(1,2,3,4,5,5)\n",
    "a=list(t)\n",
    "a.sort()\n",
    "t1=tuple(a)\n",
    "\n",
    "t==t1"
   ]
  },
  {
   "cell_type": "markdown",
   "id": "0bf1e429",
   "metadata": {},
   "source": [
    "39. Rotate a tuple to the left by `n` positions."
   ]
  },
  {
   "cell_type": "code",
   "execution_count": 26,
   "id": "7f4ef8f1",
   "metadata": {},
   "outputs": [
    {
     "name": "stdout",
     "output_type": "stream",
     "text": [
      "Enter the value to rotate the tuple to left : 2\n"
     ]
    },
    {
     "data": {
      "text/plain": [
       "(3, 4, 5, 5, 1, 2)"
      ]
     },
     "execution_count": 26,
     "metadata": {},
     "output_type": "execute_result"
    }
   ],
   "source": [
    "t=(1,2,3,4,5,5)\n",
    "n = int(input(\"Enter the value to rotate the tuple to left : \"))\n",
    "t1 = tuple(list(t[n:]) + list(t[:n]))\n",
    "t1"
   ]
  },
  {
   "cell_type": "markdown",
   "id": "e4a61ac9",
   "metadata": {},
   "source": [
    "40. Rotate a tuple to the right by `n` positions."
   ]
  },
  {
   "cell_type": "code",
   "execution_count": 27,
   "id": "448d2be7",
   "metadata": {},
   "outputs": [
    {
     "name": "stdout",
     "output_type": "stream",
     "text": [
      "Enter the value to rotate the tuple to right : 2\n"
     ]
    },
    {
     "data": {
      "text/plain": [
       "(5, 5, 1, 2, 3, 4)"
      ]
     },
     "execution_count": 27,
     "metadata": {},
     "output_type": "execute_result"
    }
   ],
   "source": [
    "t=(1,2,3,4,5,5)\n",
    "n = int(input(\"Enter the value to rotate the tuple to right : \"))\n",
    "t1 = tuple(list(t[-n:]) + list(t[:-n]))\n",
    "t1"
   ]
  },
  {
   "cell_type": "markdown",
   "id": "6e6e147b",
   "metadata": {},
   "source": [
    "41. Create a tuple of the first 5 Fibonacci numbers."
   ]
  },
  {
   "cell_type": "code",
   "execution_count": 28,
   "id": "42e50797",
   "metadata": {},
   "outputs": [
    {
     "name": "stdout",
     "output_type": "stream",
     "text": [
      "(0, 1, 1, 2, 3)\n"
     ]
    }
   ],
   "source": [
    "# Define a function to generate the first n Fibonacci numbers\n",
    "def generate_fibonacci(n):\n",
    "    fibonacci = [0, 1]  # Initialize the list with the first two Fibonacci numbers\n",
    "    while len(fibonacci) < n:  # Continue generating Fibonacci numbers until the list has n elements\n",
    "        next_number = fibonacci[-1] + fibonacci[-2]  # Calculate the next Fibonacci number\n",
    "        fibonacci.append(next_number)  # Add the next Fibonacci number to the list\n",
    "    return tuple(fibonacci)  # Convert the list to a tuple and return it\n",
    "\n",
    "# Call the generate_fibonacci function to create a tuple of the first 5 Fibonacci numbers\n",
    "fibonacci_tuple = generate_fibonacci(5)\n",
    "\n",
    "# Print the resulting tuple\n",
    "print(fibonacci_tuple)"
   ]
  },
  {
   "cell_type": "markdown",
   "id": "8068044e",
   "metadata": {},
   "source": [
    "42. Create a tuple from user input."
   ]
  },
  {
   "cell_type": "code",
   "execution_count": 31,
   "id": "6cb3573a",
   "metadata": {},
   "outputs": [
    {
     "name": "stdout",
     "output_type": "stream",
     "text": [
      "Enter a input to convert to tuple : 12345\n"
     ]
    },
    {
     "data": {
      "text/plain": [
       "('1', '2', '3', '4', '5')"
      ]
     },
     "execution_count": 31,
     "metadata": {},
     "output_type": "execute_result"
    }
   ],
   "source": [
    "string = input(\"Enter a input to convert to tuple : \")\n",
    "a=[]\n",
    "for i in string:\n",
    "    a.append(i)\n",
    "    \n",
    "t = tuple(a)\n",
    "t"
   ]
  },
  {
   "cell_type": "markdown",
   "id": "371bd757",
   "metadata": {},
   "source": [
    "43. Swap two elements in a tuple."
   ]
  },
  {
   "cell_type": "code",
   "execution_count": 42,
   "id": "6e742d80",
   "metadata": {},
   "outputs": [
    {
     "data": {
      "text/plain": [
       "(1, 4, 3, 2, 5, 5)"
      ]
     },
     "execution_count": 42,
     "metadata": {},
     "output_type": "execute_result"
    }
   ],
   "source": [
    "t=(1,2,3,4,5,5)\n",
    "index = 1\n",
    "index =3\n",
    "a= list(t)\n",
    "b = a.copy()\n",
    "b[1]=a[3]\n",
    "b[3]=a[1]\n",
    "t2=tuple(b)\n",
    "t2"
   ]
  },
  {
   "cell_type": "markdown",
   "id": "7751e13d",
   "metadata": {},
   "source": [
    "44. Reverse the elements of a tuple."
   ]
  },
  {
   "cell_type": "code",
   "execution_count": 43,
   "id": "e466914b",
   "metadata": {},
   "outputs": [
    {
     "data": {
      "text/plain": [
       "(5, 5, 4, 3, 2, 1)"
      ]
     },
     "execution_count": 43,
     "metadata": {},
     "output_type": "execute_result"
    }
   ],
   "source": [
    "t=(1,2,3,4,5,5)\n",
    "t2= t1[::-1]\n",
    "t2"
   ]
  },
  {
   "cell_type": "markdown",
   "id": "7ad69ce3",
   "metadata": {},
   "source": [
    "45. Create a tuple of the first `n` powers of 2."
   ]
  },
  {
   "cell_type": "code",
   "execution_count": 45,
   "id": "fecf6335",
   "metadata": {},
   "outputs": [
    {
     "data": {
      "text/plain": [
       "(1, 4, 9, 4, 5, 5)"
      ]
     },
     "execution_count": 45,
     "metadata": {},
     "output_type": "execute_result"
    }
   ],
   "source": [
    "t=(1,2,3,4,5,5)\n",
    "\n",
    "def tuple_n_power_2(x,n):\n",
    "    a=list(x)\n",
    "    for i in range(n):\n",
    "        a[i]=(a[i]*a[i])\n",
    "        \n",
    "    return tuple(a)\n",
    "\n",
    "tuple_n_power_2(t,3)"
   ]
  },
  {
   "cell_type": "markdown",
   "id": "a06ee1a2",
   "metadata": {},
   "source": [
    "46. Find the longest string in a tuple of strings."
   ]
  },
  {
   "cell_type": "code",
   "execution_count": 47,
   "id": "afa04036",
   "metadata": {},
   "outputs": [
    {
     "data": {
      "text/plain": [
       "'science'"
      ]
     },
     "execution_count": 47,
     "metadata": {},
     "output_type": "execute_result"
    }
   ],
   "source": [
    "t = (\"rohan\",\"shinde\",\"data\",\"science\")\n",
    "\n",
    "def string_max_tuple(x):\n",
    "    max_len=len(x[0])\n",
    "    max_string=x[0]\n",
    "    for i in range(len(x)):\n",
    "        if (len(x[i]) > max_len):\n",
    "            max_len= len(x[i])\n",
    "            max_string=x[i]\n",
    "            \n",
    "    return max_string\n",
    "\n",
    "string_max_tuple(t)"
   ]
  },
  {
   "cell_type": "markdown",
   "id": "daa8e4ee",
   "metadata": {},
   "source": [
    "47. Find the shortest string in a tuple of strings."
   ]
  },
  {
   "cell_type": "code",
   "execution_count": 48,
   "id": "b3ea0094",
   "metadata": {},
   "outputs": [
    {
     "data": {
      "text/plain": [
       "'data'"
      ]
     },
     "execution_count": 48,
     "metadata": {},
     "output_type": "execute_result"
    }
   ],
   "source": [
    "t = (\"rohan\",\"shinde\",\"data\",\"science\")\n",
    "\n",
    "def string_min_tuple(x):\n",
    "    min_len=len(x[0])\n",
    "    min_string=x[0]\n",
    "    for i in range(len(x)):\n",
    "        if (len(x[i]) < min_len):\n",
    "            min_len= len(x[i])\n",
    "            min_string=x[i]\n",
    "            \n",
    "    return min_string\n",
    "\n",
    "string_min_tuple(t)"
   ]
  },
  {
   "cell_type": "markdown",
   "id": "119ae7c6",
   "metadata": {},
   "source": [
    "48. Create a tuple of the first `n` triangular numbers."
   ]
  },
  {
   "cell_type": "code",
   "execution_count": 49,
   "id": "94c50d29",
   "metadata": {},
   "outputs": [
    {
     "name": "stdout",
     "output_type": "stream",
     "text": [
      "Tuple of the first 5 triangular numbers: (1, 3, 6, 10, 15)\n"
     ]
    }
   ],
   "source": [
    "# Define the value of n\n",
    "n = 5\n",
    "\n",
    "# Create a tuple of the first n triangular numbers using a list comprehension\n",
    "triangular_numbers_tuple = tuple((i * (i + 1)) // 2 for i in range(1, n + 1))\n",
    "\n",
    "# Print the tuple of triangular numbers\n",
    "print(\"Tuple of the first\", n, \"triangular numbers:\", triangular_numbers_tuple)"
   ]
  },
  {
   "cell_type": "markdown",
   "id": "61e40001",
   "metadata": {},
   "source": [
    "49. Check if a tuple contains another tuple as a subsequence."
   ]
  },
  {
   "cell_type": "code",
   "execution_count": 52,
   "id": "33ad47d2",
   "metadata": {},
   "outputs": [
    {
     "name": "stdout",
     "output_type": "stream",
     "text": [
      "Main tuple contains subsequence tuple: True\n"
     ]
    }
   ],
   "source": [
    "# Function to check if a tuple contains another tuple as a subsequence\n",
    "def contains_subsequence(main_tuple, sub_tuple):\n",
    "    sub_length = len(sub_tuple)\n",
    "    for i in range(len(main_tuple) - sub_length + 1):\n",
    "        if main_tuple[i:i+sub_length] == sub_tuple:\n",
    "            return True\n",
    "    return False\n",
    "\n",
    "# Main tuple\n",
    "main_tuple = (1, 2, 3, 4, 5, 6, 7, 8, 9)\n",
    "\n",
    "# Subsequence tuple\n",
    "sub_tuple = (3, 4, 5)\n",
    "\n",
    "# Check if the main tuple contains the subsequence tuple\n",
    "contains_subseq = contains_subsequence(main_tuple, sub_tuple)\n",
    "\n",
    "# Print the result\n",
    "print(\"Main tuple contains subsequence tuple:\", contains_subseq)"
   ]
  },
  {
   "cell_type": "markdown",
   "id": "9807d231",
   "metadata": {},
   "source": [
    "50. Create a tuple of alternating 1s and 0s of length `n`."
   ]
  },
  {
   "cell_type": "code",
   "execution_count": 53,
   "id": "211781a4",
   "metadata": {},
   "outputs": [
    {
     "name": "stdout",
     "output_type": "stream",
     "text": [
      "Enter the length : 5\n"
     ]
    },
    {
     "data": {
      "text/plain": [
       "(0, 1, 0, 1, 0)"
      ]
     },
     "execution_count": 53,
     "metadata": {},
     "output_type": "execute_result"
    }
   ],
   "source": [
    "n= int(input(\"Enter the length : \"))\n",
    "a=[]\n",
    "for i in range(n):\n",
    "    if (i%2 == 0):\n",
    "        a.append(0)\n",
    "    else:\n",
    "        a.append(1)\n",
    "        \n",
    "t=tuple(a)\n",
    "t"
   ]
  },
  {
   "cell_type": "code",
   "execution_count": null,
   "id": "f07bf632",
   "metadata": {},
   "outputs": [],
   "source": []
  },
  {
   "cell_type": "markdown",
   "id": "644625c4",
   "metadata": {},
   "source": [
    "# Set Based Practice Problem :"
   ]
  },
  {
   "cell_type": "markdown",
   "id": "159b6847",
   "metadata": {},
   "source": [
    "1. Create a set with integers from 1 to 5."
   ]
  },
  {
   "cell_type": "code",
   "execution_count": 3,
   "id": "f4445545",
   "metadata": {},
   "outputs": [
    {
     "name": "stdout",
     "output_type": "stream",
     "text": [
      "<class 'set'>\n",
      "{1, 2, 3, 4, 5}\n"
     ]
    }
   ],
   "source": [
    "my_set = set()\n",
    "for i in range(1,6):\n",
    "    my_set.add(i)\n",
    "print(type(my_set))\n",
    "print(my_set)"
   ]
  },
  {
   "cell_type": "markdown",
   "id": "09b8c2f3",
   "metadata": {},
   "source": [
    "2. Add an element to a set."
   ]
  },
  {
   "cell_type": "code",
   "execution_count": 7,
   "id": "2b33b00e",
   "metadata": {},
   "outputs": [
    {
     "name": "stdout",
     "output_type": "stream",
     "text": [
      "Original Set {1, 2, 3, 4, 5, 6}\n",
      "Set after adding element :  {1, 2, 3, 4, 5, 6, 7}\n"
     ]
    }
   ],
   "source": [
    "print(\"Original Set\",my_set)\n",
    "my_set.add(7)\n",
    "print(\"Set after adding element : \",my_set)"
   ]
  },
  {
   "cell_type": "markdown",
   "id": "4bc05983",
   "metadata": {},
   "source": [
    "3. Remove an element from a set."
   ]
  },
  {
   "cell_type": "code",
   "execution_count": 8,
   "id": "6d8c05b3",
   "metadata": {},
   "outputs": [
    {
     "data": {
      "text/plain": [
       "{1, 2, 3, 4}"
      ]
     },
     "execution_count": 8,
     "metadata": {},
     "output_type": "execute_result"
    }
   ],
   "source": [
    "my_set = {1, 2, 3, 4, 5}\n",
    "my_set.remove(5)\n",
    "my_set"
   ]
  },
  {
   "cell_type": "markdown",
   "id": "97a1800f",
   "metadata": {},
   "source": [
    "4. Check if an element exists in a set."
   ]
  },
  {
   "cell_type": "code",
   "execution_count": 10,
   "id": "6a87c608",
   "metadata": {},
   "outputs": [
    {
     "name": "stdout",
     "output_type": "stream",
     "text": [
      "Enter element to check in set 2\n",
      "Element 2 exist in Set \n"
     ]
    }
   ],
   "source": [
    "my_set = {1, 2, 3, 4, 5}\n",
    "n = int(input(\"Enter element to check in set \"))\n",
    "\n",
    "if (n in my_set):\n",
    "    print(f\"Element {n} exist in Set \")\n",
    "else:\n",
    "    print(f\"Element {n} does not exist in Set \")"
   ]
  },
  {
   "cell_type": "markdown",
   "id": "4892f001",
   "metadata": {},
   "source": [
    "5. Find the length of a set without using the `len()` function."
   ]
  },
  {
   "cell_type": "code",
   "execution_count": 14,
   "id": "de4c083e",
   "metadata": {},
   "outputs": [
    {
     "name": "stdout",
     "output_type": "stream",
     "text": [
      "Length of Set is :  5\n"
     ]
    }
   ],
   "source": [
    "def set_length(x):\n",
    "    if (type(x) == set):\n",
    "        count =0\n",
    "        for i in x:\n",
    "            count = count + 1\n",
    "            \n",
    "        return count\n",
    "\n",
    "    else:\n",
    "        print(\"Invalid type ,must pass Set as argument\")\n",
    "        \n",
    "my_set = {1, 2, 3, 4, 5}\n",
    "\n",
    "print(\"Length of Set is : \", set_length(my_set))"
   ]
  },
  {
   "cell_type": "markdown",
   "id": "46c1ddd9",
   "metadata": {},
   "source": [
    "6. Clear all elements from a set."
   ]
  },
  {
   "cell_type": "code",
   "execution_count": 16,
   "id": "611c2f2e",
   "metadata": {},
   "outputs": [
    {
     "name": "stdout",
     "output_type": "stream",
     "text": [
      "Original set :  {1, 2, 3, 4, 5}\n",
      "Set after clearing element :  set()\n"
     ]
    }
   ],
   "source": [
    "my_set = {1, 2, 3, 4, 5}\n",
    "print(\"Original set : \",my_set)\n",
    "my_set.clear()\n",
    "print(\"Set after clearing element : \",my_set)"
   ]
  },
  {
   "cell_type": "markdown",
   "id": "0f54ac35",
   "metadata": {},
   "source": [
    "7. Create a set of even numbers from 1 to 10."
   ]
  },
  {
   "cell_type": "code",
   "execution_count": 17,
   "id": "f6b9fe85",
   "metadata": {},
   "outputs": [
    {
     "data": {
      "text/plain": [
       "{2, 4, 6, 8, 10}"
      ]
     },
     "execution_count": 17,
     "metadata": {},
     "output_type": "execute_result"
    }
   ],
   "source": [
    "my_set=set()\n",
    "for i in range(1,11):\n",
    "    if (i%2 == 0):\n",
    "        my_set.add(i)\n",
    "        \n",
    "my_set"
   ]
  },
  {
   "cell_type": "markdown",
   "id": "d32d4f3c",
   "metadata": {},
   "source": [
    "8. Create a set of odd numbers from 1 to 10."
   ]
  },
  {
   "cell_type": "code",
   "execution_count": 18,
   "id": "377727ad",
   "metadata": {},
   "outputs": [
    {
     "data": {
      "text/plain": [
       "{1, 3, 5, 7, 9}"
      ]
     },
     "execution_count": 18,
     "metadata": {},
     "output_type": "execute_result"
    }
   ],
   "source": [
    "my_set=set()\n",
    "for i in range(1,11):\n",
    "    if (i%2 != 0):\n",
    "        my_set.add(i)\n",
    "        \n",
    "my_set"
   ]
  },
  {
   "cell_type": "markdown",
   "id": "f9f0d652",
   "metadata": {},
   "source": [
    "9. Find the union of two sets."
   ]
  },
  {
   "cell_type": "code",
   "execution_count": 19,
   "id": "75368b58",
   "metadata": {},
   "outputs": [
    {
     "data": {
      "text/plain": [
       "{1, 2, 3, 4, 5, 6, 7, 8, 9, 10}"
      ]
     },
     "execution_count": 19,
     "metadata": {},
     "output_type": "execute_result"
    }
   ],
   "source": [
    "my_set1 = {2, 4, 6, 8, 10}\n",
    "my_set2 = {1, 3, 5, 7, 9}\n",
    "\n",
    "my_set3 = my_set1.union(my_set2)\n",
    "my_set3"
   ]
  },
  {
   "cell_type": "markdown",
   "id": "3ab786b3",
   "metadata": {},
   "source": [
    "10. Find the intersection of two sets."
   ]
  },
  {
   "cell_type": "code",
   "execution_count": 20,
   "id": "5206e533",
   "metadata": {},
   "outputs": [
    {
     "data": {
      "text/plain": [
       "{2, 4, 6, 8, 10}"
      ]
     },
     "execution_count": 20,
     "metadata": {},
     "output_type": "execute_result"
    }
   ],
   "source": [
    "my_set = {1, 2, 3, 4, 5, 6, 7, 8, 9, 10}\n",
    "my_set1= {2, 4, 6, 8, 10}\n",
    "\n",
    "my_set2 = my_set.intersection(my_set1)\n",
    "my_set2"
   ]
  },
  {
   "cell_type": "markdown",
   "id": "ee42554d",
   "metadata": {},
   "source": [
    "11. Find the difference between two sets."
   ]
  },
  {
   "cell_type": "code",
   "execution_count": 21,
   "id": "e1b0153b",
   "metadata": {},
   "outputs": [
    {
     "data": {
      "text/plain": [
       "{1, 3, 5, 7, 9}"
      ]
     },
     "execution_count": 21,
     "metadata": {},
     "output_type": "execute_result"
    }
   ],
   "source": [
    "my_set = {1, 2, 3, 4, 5, 6, 7, 8, 9, 10}\n",
    "my_set1= {2, 4, 6, 8, 10}\n",
    "\n",
    "my_set2 = my_set.difference(my_set1)\n",
    "my_set2"
   ]
  },
  {
   "cell_type": "markdown",
   "id": "4b150c6d",
   "metadata": {},
   "source": [
    "12. Check if a set is a subset of another set."
   ]
  },
  {
   "cell_type": "code",
   "execution_count": 22,
   "id": "b0ead6fd",
   "metadata": {},
   "outputs": [
    {
     "name": "stdout",
     "output_type": "stream",
     "text": [
      "Is set1 a subset of set2: True\n"
     ]
    }
   ],
   "source": [
    "# Define the two sets\n",
    "set1 = {1, 2, 3}\n",
    "set2 = {1, 2, 3, 4, 5}\n",
    "\n",
    "# Use the \"issubset()\" method to check if set1 is a subset of set2\n",
    "is_subset = set1.issubset(set2)\n",
    "\n",
    "# Print the result\n",
    "print(\"Is set1 a subset of set2:\", is_subset)"
   ]
  },
  {
   "cell_type": "markdown",
   "id": "050fadcc",
   "metadata": {},
   "source": [
    "13. Check if a set is a superset of another set."
   ]
  },
  {
   "cell_type": "code",
   "execution_count": 23,
   "id": "9e328074",
   "metadata": {},
   "outputs": [
    {
     "name": "stdout",
     "output_type": "stream",
     "text": [
      "set1 is a superset of set2\n"
     ]
    }
   ],
   "source": [
    "# Create two sets\n",
    "set1 = {1, 2, 3, 4, 5, 6}\n",
    "set2 = {3, 4}\n",
    "\n",
    "# Check if set1 is a superset of set2\n",
    "is_superset = set1.issuperset(set2)\n",
    "\n",
    "# Print the result\n",
    "if is_superset:\n",
    "    print(\"set1 is a superset of set2\")\n",
    "else:\n",
    "    print(\"set1 is not a superset of set2\")"
   ]
  },
  {
   "cell_type": "markdown",
   "id": "b4cc956b",
   "metadata": {},
   "source": [
    "14. Create a set from a list."
   ]
  },
  {
   "cell_type": "code",
   "execution_count": 24,
   "id": "ea9da291",
   "metadata": {},
   "outputs": [
    {
     "data": {
      "text/plain": [
       "{1, 2, 3, 4}"
      ]
     },
     "execution_count": 24,
     "metadata": {},
     "output_type": "execute_result"
    }
   ],
   "source": [
    "l=[1,2,3,4]\n",
    "s= set(l)\n",
    "s"
   ]
  },
  {
   "cell_type": "markdown",
   "id": "bf4f7aee",
   "metadata": {},
   "source": [
    "15. Convert a set to a list."
   ]
  },
  {
   "cell_type": "code",
   "execution_count": 25,
   "id": "61f3f076",
   "metadata": {},
   "outputs": [
    {
     "data": {
      "text/plain": [
       "[1, 2, 3, 4]"
      ]
     },
     "execution_count": 25,
     "metadata": {},
     "output_type": "execute_result"
    }
   ],
   "source": [
    "s ={1, 2, 3, 4}\n",
    "l = list(s)\n",
    "l"
   ]
  },
  {
   "cell_type": "markdown",
   "id": "211f67d0",
   "metadata": {},
   "source": [
    "16. Remove a random element from a set."
   ]
  },
  {
   "cell_type": "code",
   "execution_count": 32,
   "id": "482596bc",
   "metadata": {},
   "outputs": [
    {
     "name": "stdout",
     "output_type": "stream",
     "text": [
      "Original set: {1, 2, 3, 4, 5}\n",
      "Updated set after removing 2 : {1, 3, 4, 5}\n"
     ]
    }
   ],
   "source": [
    "import random  # Import the random module\n",
    "\n",
    "# Create a set with some elements\n",
    "my_set = {1, 2, 3, 4, 5}\n",
    "\n",
    "# Display the original set\n",
    "print(\"Original set:\", my_set)\n",
    "\n",
    "# Choose a random element from the set using the random.choice() function\n",
    "random_element = random.choice(list(my_set))\n",
    "\n",
    "# Remove the chosen random element from the set using the remove() method\n",
    "my_set.remove(random_element)\n",
    "\n",
    "# Display the updated set after removing the random element\n",
    "print(\"Updated set after removing\", random_element, \":\", my_set)"
   ]
  },
  {
   "cell_type": "markdown",
   "id": "d2407721",
   "metadata": {},
   "source": [
    "17. Pop an element from a set."
   ]
  },
  {
   "cell_type": "code",
   "execution_count": 33,
   "id": "7e7dacee",
   "metadata": {},
   "outputs": [
    {
     "name": "stdout",
     "output_type": "stream",
     "text": [
      "Original Set :  {1, 2, 3, 4, 5}\n",
      "Set after removing random elemnt :  {2, 3, 4, 5}\n"
     ]
    }
   ],
   "source": [
    "s ={1, 2, 3, 4,5}\n",
    "print(\"Original Set : \", s)\n",
    "s1 = s.pop()\n",
    "print(\"Set after removing random elemnt : \", s)"
   ]
  },
  {
   "cell_type": "markdown",
   "id": "a440decb",
   "metadata": {},
   "source": [
    "18. Check if two sets have no elements in common."
   ]
  },
  {
   "cell_type": "code",
   "execution_count": 39,
   "id": "096162f8",
   "metadata": {},
   "outputs": [
    {
     "name": "stdout",
     "output_type": "stream",
     "text": [
      "Two sets have no elements in common \n"
     ]
    }
   ],
   "source": [
    "set1 = {6,7}\n",
    "set2 = {1, 2, 3, 4, 5}\n",
    "\n",
    "s1 = set1.intersection(set2)\n",
    "s2 = set2.intersection(set1)\n",
    "\n",
    "if (s1 and s2):\n",
    "    print(\"Two sets have elemnts in common\")\n",
    "else:\n",
    "    print(\"Two sets have no elements in common \")"
   ]
  },
  {
   "cell_type": "markdown",
   "id": "628e6afc",
   "metadata": {},
   "source": [
    "19. Find the symmetric difference between two sets."
   ]
  },
  {
   "cell_type": "code",
   "execution_count": 41,
   "id": "3a2421b5",
   "metadata": {},
   "outputs": [
    {
     "data": {
      "text/plain": [
       "{1, 2, 3, 6, 7, 8, 9}"
      ]
     },
     "execution_count": 41,
     "metadata": {},
     "output_type": "execute_result"
    }
   ],
   "source": [
    "set1 = {1, 2, 3, 4, 5}\n",
    "set2 = {4, 5, 6, 7, 8, 9}\n",
    "\n",
    "set3 = set1 ^ set2\n",
    "set3"
   ]
  },
  {
   "cell_type": "markdown",
   "id": "ff6f108d",
   "metadata": {},
   "source": [
    "20. Update a set with elements from another set."
   ]
  },
  {
   "cell_type": "code",
   "execution_count": 42,
   "id": "47eff952",
   "metadata": {},
   "outputs": [
    {
     "name": "stdout",
     "output_type": "stream",
     "text": [
      "Set 1: {1, 2, 3}\n",
      "Set 2: {3, 4, 5}\n",
      "Updated Set 1: {1, 2, 3, 4, 5}\n"
     ]
    }
   ],
   "source": [
    "# Create the first set\n",
    "set1 = {1, 2, 3}\n",
    "print(\"Set 1:\", set1)\n",
    "\n",
    "# Create the second set\n",
    "set2 = {3, 4, 5}\n",
    "print(\"Set 2:\", set2)\n",
    "\n",
    "# Update set1 with elements from set2\n",
    "set1.update(set2)\n",
    "print(\"Updated Set 1:\", set1)"
   ]
  },
  {
   "cell_type": "markdown",
   "id": "1f8753fa",
   "metadata": {},
   "source": [
    "21. Create a set of the first 5 prime numbers."
   ]
  },
  {
   "cell_type": "code",
   "execution_count": 43,
   "id": "0f130431",
   "metadata": {},
   "outputs": [
    {
     "name": "stdout",
     "output_type": "stream",
     "text": [
      "Set of the first 5 prime numbers: {2, 3, 5, 7, 11}\n"
     ]
    }
   ],
   "source": [
    "# Function to check if a number is prime\n",
    "def is_prime(num):\n",
    "    if num <= 1:\n",
    "        return False\n",
    "    for i in range(2, int(num ** 0.5) + 1):\n",
    "        if num % i == 0:\n",
    "            return False\n",
    "    return True\n",
    "\n",
    "# Create an empty set to store the prime numbers\n",
    "prime_set = set()\n",
    "\n",
    "# Initialize the number to start checking for primes\n",
    "num = 2\n",
    "\n",
    "# Loop until we have found the first 5 prime numbers\n",
    "while len(prime_set) < 5:\n",
    "    # Check if the current number is prime using the is_prime function\n",
    "    if is_prime(num):\n",
    "        # If the number is prime, add it to the prime_set\n",
    "        prime_set.add(num)\n",
    "\n",
    "    # Move on to the next number for the next iteration\n",
    "    num += 1\n",
    "\n",
    "# Print the set of prime numbers\n",
    "print(\"Set of the first 5 prime numbers:\", prime_set)"
   ]
  },
  {
   "cell_type": "markdown",
   "id": "0533cfe0",
   "metadata": {},
   "source": [
    "22. Check if two sets are identical."
   ]
  },
  {
   "cell_type": "code",
   "execution_count": 44,
   "id": "f8d323e0",
   "metadata": {},
   "outputs": [
    {
     "name": "stdout",
     "output_type": "stream",
     "text": [
      "Set are not identical\n"
     ]
    }
   ],
   "source": [
    "set1 = {1, 2, 3, 4, 5}\n",
    "set2 = {4, 5, 6, 7, 8, 9}\n",
    "\n",
    "if set1 == set2:\n",
    "    print(\"Set are identical\")\n",
    "else:\n",
    "    print(\"Set are not identical\")"
   ]
  },
  {
   "cell_type": "markdown",
   "id": "0f4f0792",
   "metadata": {},
   "source": [
    "23. Create a frozen set."
   ]
  },
  {
   "cell_type": "code",
   "execution_count": 45,
   "id": "d8c053ec",
   "metadata": {},
   "outputs": [
    {
     "name": "stdout",
     "output_type": "stream",
     "text": [
      "Frozen Set: frozenset({1, 2, 3, 4, 5})\n"
     ]
    }
   ],
   "source": [
    "# Step 2: Define a list of elements that you want to include in the frozen set\n",
    "elements = [1, 2, 3, 4, 5]\n",
    "\n",
    "# Step 3: Create a frozen set using the 'frozenset' constructor and passing the list of elements\n",
    "my_frozen_set = frozenset(elements)\n",
    "\n",
    "# Step 4: Print the frozen set\n",
    "print(\"Frozen Set:\", my_frozen_set)"
   ]
  },
  {
   "cell_type": "markdown",
   "id": "8415b70c",
   "metadata": {},
   "source": [
    "24. Check if a set is disjoint with another set."
   ]
  },
  {
   "cell_type": "code",
   "execution_count": 47,
   "id": "6f020bd6",
   "metadata": {},
   "outputs": [
    {
     "name": "stdout",
     "output_type": "stream",
     "text": [
      "set is disjoint\n"
     ]
    }
   ],
   "source": [
    "set1 = {1, 2, 3}\n",
    "set2 = {4, 5, 6, 7, 8, 9}\n",
    "\n",
    "if (set1.isdisjoint(set2)):\n",
    "    print(\"set is disjoint\")\n",
    "else:\n",
    "    print(\"set is not disjoint\")"
   ]
  },
  {
   "cell_type": "markdown",
   "id": "0ee683b5",
   "metadata": {},
   "source": [
    "25. Create a set of squares of numbers from 1 to 5."
   ]
  },
  {
   "cell_type": "code",
   "execution_count": 48,
   "id": "5ab90f80",
   "metadata": {},
   "outputs": [
    {
     "data": {
      "text/plain": [
       "{1, 4, 9, 16, 25}"
      ]
     },
     "execution_count": 48,
     "metadata": {},
     "output_type": "execute_result"
    }
   ],
   "source": [
    "s1=set()\n",
    "\n",
    "for i in range(1,6):\n",
    "    s1.add(i*i)\n",
    "\n",
    "s1"
   ]
  },
  {
   "cell_type": "markdown",
   "id": "16147bf6",
   "metadata": {},
   "source": [
    "26. Filter out all even numbers from a set."
   ]
  },
  {
   "cell_type": "code",
   "execution_count": 49,
   "id": "f198a175",
   "metadata": {},
   "outputs": [
    {
     "data": {
      "text/plain": [
       "{1, 9, 25}"
      ]
     },
     "execution_count": 49,
     "metadata": {},
     "output_type": "execute_result"
    }
   ],
   "source": [
    "s1 = {1, 4, 9, 16, 25}\n",
    "l = list(s1)\n",
    "s2=set()\n",
    "for i in range(len(l)):\n",
    "    if (l[i]%2 != 0):\n",
    "        s2.add(l[i])\n",
    "        \n",
    "s2"
   ]
  },
  {
   "cell_type": "markdown",
   "id": "2bcf599f",
   "metadata": {},
   "source": [
    "27. Multiply all elements in a set by 2."
   ]
  },
  {
   "cell_type": "code",
   "execution_count": 51,
   "id": "6bc254c6",
   "metadata": {},
   "outputs": [
    {
     "data": {
      "text/plain": [
       "{2, 8, 18, 32, 50}"
      ]
     },
     "execution_count": 51,
     "metadata": {},
     "output_type": "execute_result"
    }
   ],
   "source": [
    "s1 = {1, 4, 9, 16, 25}\n",
    "l = list(s1)\n",
    "s2=set()\n",
    "for i in range(len(l)):\n",
    "    s2.add(2 * l[i])\n",
    "        \n",
    "s2"
   ]
  },
  {
   "cell_type": "markdown",
   "id": "bf4f3b98",
   "metadata": {},
   "source": [
    "28. Create a set of random numbers."
   ]
  },
  {
   "cell_type": "code",
   "execution_count": 54,
   "id": "72965c4a",
   "metadata": {},
   "outputs": [
    {
     "name": "stdout",
     "output_type": "stream",
     "text": [
      "Generated set of random numbers: {46, 14, 83, 27, 60}\n"
     ]
    }
   ],
   "source": [
    "# Step 1: Import the `random` module to generate random numbers\n",
    "import random\n",
    "\n",
    "# Step 2: Define the number of random numbers you want in the set\n",
    "num_random_numbers = 5\n",
    "\n",
    "# Step 3: Initialize an empty set to store the random numbers\n",
    "random_number_set = set()\n",
    "\n",
    "# Step 4: Use a loop to generate random numbers and add them to the set\n",
    "for _ in range(num_random_numbers):\n",
    "    # Generate a random integer using the `randint` function from the `random` module\n",
    "    random_num = random.randint(1, 100)  # Generate a random number between 1 and 100\n",
    "    # Add the random number to the set\n",
    "    random_number_set.add(random_num)\n",
    "\n",
    "# Step 5: Print the generated set of random numbers\n",
    "print(\"Generated set of random numbers:\", random_number_set)"
   ]
  },
  {
   "cell_type": "markdown",
   "id": "f495e561",
   "metadata": {},
   "source": [
    "29. Check if a set is empty."
   ]
  },
  {
   "cell_type": "code",
   "execution_count": 55,
   "id": "1fcc6a95",
   "metadata": {},
   "outputs": [
    {
     "name": "stdout",
     "output_type": "stream",
     "text": [
      "Set is empty\n"
     ]
    }
   ],
   "source": [
    "s3 = set()\n",
    "\n",
    "if (len(s3)==0):\n",
    "    print(\"Set is empty\")\n",
    "else:\n",
    "    print(\"Set is not empty\")"
   ]
  },
  {
   "cell_type": "markdown",
   "id": "7ea857ff",
   "metadata": {},
   "source": [
    "30. Create a nested set (hint: use frozenset)."
   ]
  },
  {
   "cell_type": "code",
   "execution_count": 63,
   "id": "226b5c5e",
   "metadata": {},
   "outputs": [
    {
     "data": {
      "text/plain": [
       "{1, 2, 34, 4, frozenset({11, 22})}"
      ]
     },
     "execution_count": 63,
     "metadata": {},
     "output_type": "execute_result"
    }
   ],
   "source": [
    "s1 = {1,2,34,4}\n",
    "s2 = frozenset({11,22})\n",
    "\n",
    "s1.add(s2)\n",
    "s1"
   ]
  },
  {
   "cell_type": "markdown",
   "id": "bd9c928a",
   "metadata": {},
   "source": [
    "31. Remove an element from a set using the discard method."
   ]
  },
  {
   "cell_type": "code",
   "execution_count": 65,
   "id": "b0bfdb9f",
   "metadata": {},
   "outputs": [
    {
     "data": {
      "text/plain": [
       "{1, 4, 5, 6, 7, 34}"
      ]
     },
     "execution_count": 65,
     "metadata": {},
     "output_type": "execute_result"
    }
   ],
   "source": [
    "s1 = {1,2,34,4,5,6,7}\n",
    "s1.discard(2)\n",
    "s1"
   ]
  },
  {
   "cell_type": "markdown",
   "id": "7444b45a",
   "metadata": {},
   "source": [
    "32. Compare two sets."
   ]
  },
  {
   "cell_type": "code",
   "execution_count": 69,
   "id": "bc9e6d5e",
   "metadata": {},
   "outputs": [
    {
     "name": "stdout",
     "output_type": "stream",
     "text": [
      "False\n",
      "False\n",
      "True\n",
      "False\n"
     ]
    }
   ],
   "source": [
    "set1 = {1, 2, 3}\n",
    "set2 = {4, 5, 6, 7, 8, 9}\n",
    "\n",
    "print(set1 == set2)\n",
    "print(set1 < set2)\n",
    "print(set1 != set2)\n",
    "print(set1 > set2)\n",
    "\n",
    "# Step 2: Use set operations to compare the sets\n",
    "# Check if set1 is a subset of set2\n",
    "is_subset = set1.issubset(set2)\n",
    "\n",
    "# Check if set2 is a subset of set1\n",
    "is_superset = set1.issuperset(set2)\n",
    "\n",
    "# Find the intersection of the sets\n",
    "intersection = set1.intersection(set2)\n",
    "\n",
    "# Find the union of the sets\n",
    "union = set1.union(set2)\n",
    "\n",
    "# Find the elements that are in set1 but not in set2\n",
    "difference1 = set1.difference(set2)\n",
    "\n",
    "# Find the elements that are in set2 but not in set1\n",
    "difference2 = set2.difference(set1)"
   ]
  },
  {
   "cell_type": "markdown",
   "id": "8a812fcc",
   "metadata": {},
   "source": [
    "33. Create a set from a string."
   ]
  },
  {
   "cell_type": "code",
   "execution_count": 70,
   "id": "a352a3e4",
   "metadata": {},
   "outputs": [
    {
     "data": {
      "text/plain": [
       "{'a', 'h', 'n', 'o', 'r'}"
      ]
     },
     "execution_count": 70,
     "metadata": {},
     "output_type": "execute_result"
    }
   ],
   "source": [
    "string = \"rohan\"\n",
    "set1=set()\n",
    "for i in string:\n",
    "    set1.add(i)\n",
    "    \n",
    "set1"
   ]
  },
  {
   "cell_type": "markdown",
   "id": "0de61175",
   "metadata": {},
   "source": [
    "34. Convert a set of strings to a set of integers."
   ]
  },
  {
   "cell_type": "code",
   "execution_count": 71,
   "id": "385e89c4",
   "metadata": {},
   "outputs": [
    {
     "data": {
      "text/plain": [
       "{123, 456, 789}"
      ]
     },
     "execution_count": 71,
     "metadata": {},
     "output_type": "execute_result"
    }
   ],
   "source": [
    "string_set = {\"123\", \"456\", \"789\"}\n",
    "int_set=set()\n",
    "\n",
    "for i in string_set:\n",
    "    int_set.add(int(i))\n",
    "\n",
    "int_set"
   ]
  },
  {
   "cell_type": "markdown",
   "id": "bf8490e2",
   "metadata": {},
   "source": [
    "35. Convert a set of integers to a set of strings."
   ]
  },
  {
   "cell_type": "code",
   "execution_count": 72,
   "id": "03660d35",
   "metadata": {},
   "outputs": [
    {
     "data": {
      "text/plain": [
       "{'123', '456', '789'}"
      ]
     },
     "execution_count": 72,
     "metadata": {},
     "output_type": "execute_result"
    }
   ],
   "source": [
    "int_set = {123, 456, 789}\n",
    "string_set = set()\n",
    "\n",
    "for i in int_set:\n",
    "    string_set.add(str(i))\n",
    "    \n",
    "string_set"
   ]
  },
  {
   "cell_type": "markdown",
   "id": "71390743",
   "metadata": {},
   "source": [
    "36. Create a set from a tuple."
   ]
  },
  {
   "cell_type": "code",
   "execution_count": 74,
   "id": "3a0bb79c",
   "metadata": {},
   "outputs": [
    {
     "data": {
      "text/plain": [
       "{1, 2, 3, 4}"
      ]
     },
     "execution_count": 74,
     "metadata": {},
     "output_type": "execute_result"
    }
   ],
   "source": [
    "t =(1,2,3,4)\n",
    "set1 = set(t)\n",
    "set1"
   ]
  },
  {
   "cell_type": "markdown",
   "id": "08880de3",
   "metadata": {},
   "source": [
    "37. Convert a set to a tuple."
   ]
  },
  {
   "cell_type": "code",
   "execution_count": 76,
   "id": "21a331cf",
   "metadata": {},
   "outputs": [
    {
     "data": {
      "text/plain": [
       "(1, 2, 3, 4)"
      ]
     },
     "execution_count": 76,
     "metadata": {},
     "output_type": "execute_result"
    }
   ],
   "source": [
    "set1 = {1, 2, 3, 4}\n",
    "t = tuple(set1)\n",
    "t"
   ]
  },
  {
   "cell_type": "markdown",
   "id": "7c57e099",
   "metadata": {},
   "source": [
    "38. Find the maximum value in a set."
   ]
  },
  {
   "cell_type": "code",
   "execution_count": 77,
   "id": "9ec9d19d",
   "metadata": {},
   "outputs": [
    {
     "name": "stdout",
     "output_type": "stream",
     "text": [
      "The max vlaue in set is :  7777.8\n"
     ]
    }
   ],
   "source": [
    "int_set = {123, 456, 789,33,456.7,22.2,6000,7777.8,77}\n",
    "\n",
    "def max_val_set(x):\n",
    "    a= list(x)\n",
    "    a.sort()\n",
    "    return a[-1]\n",
    "\n",
    "print(\"The max vlaue in set is : \", max_val_set(int_set))"
   ]
  },
  {
   "cell_type": "markdown",
   "id": "8991ca8e",
   "metadata": {},
   "source": [
    "39. Find the minimum value in a set."
   ]
  },
  {
   "cell_type": "code",
   "execution_count": 78,
   "id": "22bfbb7d",
   "metadata": {},
   "outputs": [
    {
     "name": "stdout",
     "output_type": "stream",
     "text": [
      "The min vlaue in set is :  22.2\n"
     ]
    }
   ],
   "source": [
    "int_set = {123, 456, 789,33,456.7,22.2,6000,7777.8,77}\n",
    "\n",
    "def min_val_set(x):\n",
    "    a= list(x)\n",
    "    a.sort()\n",
    "    return a[0]\n",
    "\n",
    "print(\"The min vlaue in set is : \", min_val_set(int_set))"
   ]
  },
  {
   "cell_type": "markdown",
   "id": "c7047445",
   "metadata": {},
   "source": [
    "40. Create a set from user input."
   ]
  },
  {
   "cell_type": "code",
   "execution_count": 79,
   "id": "70b00572",
   "metadata": {},
   "outputs": [
    {
     "name": "stdout",
     "output_type": "stream",
     "text": [
      "Enter the length of Set to create : 5\n",
      "1.Enter the value to Set : rohan\n",
      "2.Enter the value to Set : 1\n",
      "3.Enter the value to Set : 55\n",
      "4.Enter the value to Set : 8.7\n",
      "5.Enter the value to Set : True\n",
      "User input set is :  {'rohan', 'True', '8.7', '55', '1'}\n"
     ]
    }
   ],
   "source": [
    "set1 = set()\n",
    "n = int(input(\"Enter the length of Set to create : \"))\n",
    "\n",
    "for i in range(1,(n+1)):\n",
    "    set1.add(input(f\"{i}.Enter the value to Set : \"))\n",
    "    \n",
    "print(\"User input set is : \", set1)"
   ]
  },
  {
   "cell_type": "markdown",
   "id": "980231fc",
   "metadata": {},
   "source": [
    "41. Check if the intersection of two sets is empty."
   ]
  },
  {
   "cell_type": "code",
   "execution_count": 83,
   "id": "6ab6dcf5",
   "metadata": {},
   "outputs": [
    {
     "name": "stdout",
     "output_type": "stream",
     "text": [
      "Intersection is empty\n"
     ]
    }
   ],
   "source": [
    "set1 = {1, 2, 3}\n",
    "set2 = {4, 5, 6, 7, 8, 9}\n",
    "\n",
    "if (set1.intersection(set2) and (1)):\n",
    "    print(\"Intersection is not empty \")\n",
    "else:\n",
    "    print(\"Intersection is empty\")"
   ]
  },
  {
   "cell_type": "markdown",
   "id": "c3fc6f56",
   "metadata": {},
   "source": [
    "42. Create a set of the first 5 Fibonacci numbers."
   ]
  },
  {
   "cell_type": "code",
   "execution_count": 84,
   "id": "ba56628b",
   "metadata": {},
   "outputs": [
    {
     "data": {
      "text/plain": [
       "{0, 1, 2, 3, 5}"
      ]
     },
     "execution_count": 84,
     "metadata": {},
     "output_type": "execute_result"
    }
   ],
   "source": [
    "fib_set = set()\n",
    "\n",
    "a,b = 0,1\n",
    "\n",
    "for i in range(1,6):\n",
    "    fib_set.add(a)\n",
    "    fib_set.add(b)\n",
    "    a,b = b,a+b\n",
    "    \n",
    "fib_set"
   ]
  },
  {
   "cell_type": "markdown",
   "id": "836a9929",
   "metadata": {},
   "source": [
    "43. Remove duplicates from a list using sets."
   ]
  },
  {
   "cell_type": "code",
   "execution_count": 86,
   "id": "06bbb730",
   "metadata": {},
   "outputs": [
    {
     "data": {
      "text/plain": [
       "[1, 2, 3, 33, 34, 11, 22]"
      ]
     },
     "execution_count": 86,
     "metadata": {},
     "output_type": "execute_result"
    }
   ],
   "source": [
    "l = [1,2,3,11,1,2,22,33,3,33,34]\n",
    "set1= set(l)\n",
    "l = list(set1)\n",
    "l"
   ]
  },
  {
   "cell_type": "markdown",
   "id": "202da130",
   "metadata": {},
   "source": [
    "44. Check if two sets have the same elements, regardless of their count."
   ]
  },
  {
   "cell_type": "code",
   "execution_count": 87,
   "id": "cc00e876",
   "metadata": {},
   "outputs": [
    {
     "name": "stdout",
     "output_type": "stream",
     "text": [
      "The sets have the same elements.\n"
     ]
    }
   ],
   "source": [
    "def have_same_elements(set1, set2):\n",
    "    # Convert the sets to lists and sort them\n",
    "    sorted_list1 = sorted(list(set1))\n",
    "    sorted_list2 = sorted(list(set2))\n",
    "\n",
    "    # Compare the sorted lists to check if they are equal\n",
    "    return sorted_list1 == sorted_list2\n",
    "\n",
    "# Example sets\n",
    "set1 = {1, 2, 3, 2, 1}\n",
    "set2 = {3, 1, 2}\n",
    "\n",
    "# Check if the sets have the same elements\n",
    "result = have_same_elements(set1, set2)\n",
    "\n",
    "# Print the result\n",
    "if result:\n",
    "    print(\"The sets have the same elements.\")\n",
    "else:\n",
    "    print(\"The sets do not have the same elements.\")"
   ]
  },
  {
   "cell_type": "markdown",
   "id": "95089d4d",
   "metadata": {},
   "source": [
    "45. Create a set of the first `n` powers of 2."
   ]
  },
  {
   "cell_type": "code",
   "execution_count": 91,
   "id": "cd3cd181",
   "metadata": {},
   "outputs": [
    {
     "name": "stdout",
     "output_type": "stream",
     "text": [
      "{1, 2, 4, 8, 16}\n"
     ]
    }
   ],
   "source": [
    "def generate_powers_of_2(n):\n",
    "    # Initialize an empty set to store the powers of 2\n",
    "    powers_of_2 = set()\n",
    "\n",
    "    # Loop from 0 to n-1\n",
    "    for i in range(n):\n",
    "        # Calculate the current power of 2 using the exponentiation operator **\n",
    "        power = 2 ** i\n",
    "\n",
    "        # Add the current power of 2 to the set\n",
    "        powers_of_2.add(power)\n",
    "\n",
    "    # Return the set of powers of 2\n",
    "    return powers_of_2\n",
    "\n",
    "# Define the value of n\n",
    "n = 5\n",
    "\n",
    "# Call the function to generate the set of powers of 2\n",
    "powers_set = generate_powers_of_2(n)\n",
    "\n",
    "# Print the resulting set\n",
    "print(powers_set)"
   ]
  },
  {
   "cell_type": "markdown",
   "id": "74117152",
   "metadata": {},
   "source": [
    "46. Find the common elements between a set and a list."
   ]
  },
  {
   "cell_type": "code",
   "execution_count": 92,
   "id": "f4930d06",
   "metadata": {},
   "outputs": [
    {
     "data": {
      "text/plain": [
       "{1, 3}"
      ]
     },
     "execution_count": 92,
     "metadata": {},
     "output_type": "execute_result"
    }
   ],
   "source": [
    "list1 = [1,2,3,44,5]\n",
    "set1 = {1,22,3,444,55}\n",
    "\n",
    "set_list = set(list1)\n",
    "\n",
    "set_common = set1.intersection(set_list)\n",
    "set_common"
   ]
  },
  {
   "cell_type": "markdown",
   "id": "af511c46",
   "metadata": {},
   "source": [
    "47. Create a set of the first `n` triangular numbers."
   ]
  },
  {
   "cell_type": "code",
   "execution_count": 93,
   "id": "96910083",
   "metadata": {},
   "outputs": [
    {
     "name": "stdout",
     "output_type": "stream",
     "text": [
      "Enter the value of n: 5\n",
      "The set of the first 5 triangular numbers is: {1, 3, 6, 10, 15}\n"
     ]
    }
   ],
   "source": [
    "def generate_triangular_numbers(n):\n",
    "    triangular_numbers = set()  # Create an empty set to store the triangular numbers\n",
    "    for i in range(1, n + 1):\n",
    "        triangular_number = i * (i + 1) // 2  # Calculate the ith triangular number using the formula\n",
    "        triangular_numbers.add(triangular_number)  # Add the calculated triangular number to the set\n",
    "    return triangular_numbers\n",
    "\n",
    "# Input the value of 'n'\n",
    "n = int(input(\"Enter the value of n: \"))\n",
    "\n",
    "# Call the function to generate the set of first 'n' triangular numbers\n",
    "triangular_set = generate_triangular_numbers(n)\n",
    "\n",
    "# Display the set of triangular numbers\n",
    "print(f\"The set of the first {n} triangular numbers is:\", triangular_set)"
   ]
  },
  {
   "cell_type": "markdown",
   "id": "28857bdb",
   "metadata": {},
   "source": [
    "48. Check if a set contains another set as a subset."
   ]
  },
  {
   "cell_type": "code",
   "execution_count": 94,
   "id": "9191ee8c",
   "metadata": {},
   "outputs": [
    {
     "name": "stdout",
     "output_type": "stream",
     "text": [
      "set2 is a subset of set1\n"
     ]
    }
   ],
   "source": [
    "# Define two sets\n",
    "set1 = {1, 2, 3, 4, 5}\n",
    "set2 = {3, 4}\n",
    "\n",
    "# Check if set2 is a subset of set1\n",
    "is_subset = set2.issubset(set1)\n",
    "\n",
    "# Print the result\n",
    "if is_subset:\n",
    "    print(\"set2 is a subset of set1\")\n",
    "else:\n",
    "    print(\"set2 is not a subset of set1\")"
   ]
  },
  {
   "cell_type": "markdown",
   "id": "f2c63e38",
   "metadata": {},
   "source": [
    "49. Create a set of alternating 1s and 0s of length `n`."
   ]
  },
  {
   "cell_type": "code",
   "execution_count": 97,
   "id": "3bef27e5",
   "metadata": {},
   "outputs": [
    {
     "name": "stdout",
     "output_type": "stream",
     "text": [
      "Enter the length : 5\n"
     ]
    },
    {
     "data": {
      "text/plain": [
       "{0, 1}"
      ]
     },
     "execution_count": 97,
     "metadata": {},
     "output_type": "execute_result"
    }
   ],
   "source": [
    "n= int(input(\"Enter the length : \"))\n",
    "l=[]\n",
    "for i in range(n):\n",
    "    if (i%2 == 0):\n",
    "        l.append(0)\n",
    "    else:\n",
    "        l.append(1)\n",
    "        \n",
    "set1 = set(l)\n",
    "set1"
   ]
  },
  {
   "cell_type": "markdown",
   "id": "1249d456",
   "metadata": {},
   "source": [
    "50. Merge multiple sets into one."
   ]
  },
  {
   "cell_type": "code",
   "execution_count": 98,
   "id": "f05f1de2",
   "metadata": {},
   "outputs": [
    {
     "name": "stdout",
     "output_type": "stream",
     "text": [
      "Merged Set: {1, 2, 3, 4, 5, 6, 7}\n"
     ]
    }
   ],
   "source": [
    "# Step 1: Create multiple sets\n",
    "set1 = {1, 2, 3}\n",
    "set2 = {3, 4, 5}\n",
    "set3 = {5, 6, 7}\n",
    "\n",
    "# Step 2: Use the union() method to merge sets\n",
    "merged_set = set1.union(set2, set3)\n",
    "\n",
    "# Alternatively, you can use the | operator\n",
    "# merged_set = set1 | set2 | set3\n",
    "\n",
    "# Step 3: Print the merged set\n",
    "print(\"Merged Set:\", merged_set)"
   ]
  },
  {
   "cell_type": "code",
   "execution_count": null,
   "id": "88a2e1ea",
   "metadata": {},
   "outputs": [],
   "source": []
  }
 ],
 "metadata": {
  "kernelspec": {
   "display_name": "Python 3 (ipykernel)",
   "language": "python",
   "name": "python3"
  },
  "language_info": {
   "codemirror_mode": {
    "name": "ipython",
    "version": 3
   },
   "file_extension": ".py",
   "mimetype": "text/x-python",
   "name": "python",
   "nbconvert_exporter": "python",
   "pygments_lexer": "ipython3",
   "version": "3.9.7"
  }
 },
 "nbformat": 4,
 "nbformat_minor": 5
}
