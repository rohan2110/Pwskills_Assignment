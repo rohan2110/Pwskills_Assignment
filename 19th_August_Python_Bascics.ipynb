{
 "cells": [
  {
   "cell_type": "markdown",
   "id": "aacf406b-2029-44dc-948a-0d8bfcb8f885",
   "metadata": {},
   "source": [
    "TOPIC: Python Basics Variable"
   ]
  },
  {
   "cell_type": "markdown",
   "id": "0ce51d37-3344-4480-8f07-76cc8e22244a",
   "metadata": {},
   "source": [
    "1. Declare two variables, `x` and `y`, and assign them integer values.\n",
    "Swap the values of these variables without using any temporary\n",
    "variable."
   ]
  },
  {
   "cell_type": "code",
   "execution_count": 3,
   "id": "a07725cd-bab8-4e74-9e28-83b96f7b51a1",
   "metadata": {},
   "outputs": [
    {
     "name": "stdout",
     "output_type": "stream",
     "text": [
      "11\n",
      "22\n"
     ]
    }
   ],
   "source": [
    "x,y = 11,22\n",
    "print(x)\n",
    "print(y)"
   ]
  },
  {
   "cell_type": "code",
   "execution_count": 4,
   "id": "20bdb83e-1deb-4cb3-b924-3d440d82fffe",
   "metadata": {},
   "outputs": [],
   "source": [
    "x,y = y,x"
   ]
  },
  {
   "cell_type": "code",
   "execution_count": 5,
   "id": "c2bac9a7-2889-4a5c-8248-655db3f669bd",
   "metadata": {},
   "outputs": [
    {
     "name": "stdout",
     "output_type": "stream",
     "text": [
      "22\n",
      "11\n"
     ]
    }
   ],
   "source": [
    "print(x)\n",
    "print(y)"
   ]
  },
  {
   "cell_type": "markdown",
   "id": "94b97cd1-d76a-45fa-bbd3-b5960a718594",
   "metadata": {},
   "source": [
    "2. Create a program that calculates the area of a rectangle. Take the\n",
    "length and width as inputs from the user and store them in variables.\n",
    "Calculate and display the area."
   ]
  },
  {
   "cell_type": "code",
   "execution_count": 18,
   "id": "8aee90d4-4335-4244-a149-c4325a70cde1",
   "metadata": {},
   "outputs": [
    {
     "name": "stdin",
     "output_type": "stream",
     "text": [
      "Please enter length of rectangle:  22\n",
      "Please enter width of rectangle:  3\n"
     ]
    },
    {
     "name": "stdout",
     "output_type": "stream",
     "text": [
      "Area of Rectangle is : 66\n"
     ]
    }
   ],
   "source": [
    "x=int(input(\"Please enter length of rectangle: \"))\n",
    "y=int(input(\"Please enter width of rectangle: \"))\n",
    "area = x * y\n",
    "print(\"Area of Rectangle is :\", area)"
   ]
  },
  {
   "cell_type": "markdown",
   "id": "7eb0b091-35f7-47a7-ae53-5effe099fcd7",
   "metadata": {},
   "source": [
    "3. Write a Python program that converts temperature from Celsius to\n",
    "Fahrenheit. Take the temperature in Celsius as input, store it in a\n",
    "variable, convert it to Fahrenheit, and display the result."
   ]
  },
  {
   "cell_type": "code",
   "execution_count": 20,
   "id": "713b0c67-5014-49a7-9245-2de95274203d",
   "metadata": {},
   "outputs": [
    {
     "name": "stdin",
     "output_type": "stream",
     "text": [
      "Please enter temperature in celcius (°C):  44.2\n"
     ]
    },
    {
     "name": "stdout",
     "output_type": "stream",
     "text": [
      "Temperature in Fahrenheit is: 111.56\n"
     ]
    }
   ],
   "source": [
    "x=float(input(\"Please enter temperature in celcius (°C): \"))\n",
    "fahrenheit = (x * (9/5)) + 32\n",
    "print(\"Temperature in Fahrenheit is:\", fahrenheit)"
   ]
  },
  {
   "cell_type": "code",
   "execution_count": null,
   "id": "666c1ca1-6b78-4807-bf28-e4e82075fe1e",
   "metadata": {},
   "outputs": [],
   "source": []
  },
  {
   "cell_type": "markdown",
   "id": "5a464a10-225d-4825-8f11-0d39682c2734",
   "metadata": {},
   "source": [
    "TOPIC: String Based Questions"
   ]
  },
  {
   "cell_type": "markdown",
   "id": "e77e59ff-6572-421f-8d93-4000410f4053",
   "metadata": {},
   "source": [
    "1. Write a Python program that takes a string as input and prints the\n",
    "length of the string."
   ]
  },
  {
   "cell_type": "code",
   "execution_count": 24,
   "id": "1675d623-acb5-46e6-8c6d-b56d804a497c",
   "metadata": {},
   "outputs": [
    {
     "name": "stdin",
     "output_type": "stream",
     "text": [
      "Please enter the string to calculate its length : This is Rohan Shinde\n"
     ]
    },
    {
     "name": "stdout",
     "output_type": "stream",
     "text": [
      "Length of the string is : 20\n"
     ]
    }
   ],
   "source": [
    "x = input(\"Please enter the string to calculate its length :\")\n",
    "print(\"Length of the string is :\", len(x))"
   ]
  },
  {
   "cell_type": "markdown",
   "id": "ae38d226-1e08-4bb1-ab60-60e173644ced",
   "metadata": {},
   "source": [
    "2. Create a program that takes a sentence from the user and counts the\n",
    "number of vowels (a, e, i, o, u) in the string."
   ]
  },
  {
   "cell_type": "code",
   "execution_count": 32,
   "id": "8804748b-75eb-4451-822d-ae25c96de68b",
   "metadata": {},
   "outputs": [
    {
     "name": "stdin",
     "output_type": "stream",
     "text": [
      "Please enter the string to count the number of vowels : Rdjifua AdihsOsg pUUUSnibcc\n"
     ]
    },
    {
     "name": "stdout",
     "output_type": "stream",
     "text": [
      "The number of vowels in your string is : 9\n"
     ]
    }
   ],
   "source": [
    "s = input(\"Please enter the string to count the number of vowels :\")\n",
    "count=s.count(\"a\") + s.count(\"A\") + s.count(\"e\") + s.count(\"E\") + s.count(\"i\") + s.count(\"I\") + s.count(\"o\") + s.count(\"u\") + s.count(\"U\")\n",
    "print(\"The number of vowels in your string is :\", count)"
   ]
  },
  {
   "cell_type": "markdown",
   "id": "5cba1aac-9196-4040-9d8f-dc76aa625ffc",
   "metadata": {},
   "source": [
    "3. Given a string, reverse the order of characters using string slicing and\n",
    "print the reversed string."
   ]
  },
  {
   "cell_type": "code",
   "execution_count": 35,
   "id": "2f65d24c-7f44-4a56-b014-750b8209c60c",
   "metadata": {},
   "outputs": [
    {
     "name": "stdin",
     "output_type": "stream",
     "text": [
      "Enter a string : Rohan Shinde !!! This is Data Science\n"
     ]
    },
    {
     "name": "stdout",
     "output_type": "stream",
     "text": [
      "The reverse of your string is : ecneicS ataD si sihT !!! ednihS nahoR\n"
     ]
    }
   ],
   "source": [
    "s1 = input(\"Enter a string :\")\n",
    "s2=s1[::-1]\n",
    "print(\"The reverse of your string is :\", s2)"
   ]
  },
  {
   "cell_type": "markdown",
   "id": "e8173e56-d09a-4252-bf92-6376e26c31da",
   "metadata": {},
   "source": [
    "4. Write a program that takes a string as input and checks if it is a\n",
    "palindrome (reads the same forwards and backwards)."
   ]
  },
  {
   "cell_type": "code",
   "execution_count": 41,
   "id": "0d393e56-d513-4c05-9f36-b61c77e2f6f0",
   "metadata": {},
   "outputs": [
    {
     "name": "stdin",
     "output_type": "stream",
     "text": [
      "Enter a String to check if it is Palindrome : DN@nd\n"
     ]
    },
    {
     "name": "stdout",
     "output_type": "stream",
     "text": [
      "The given string is Palindrome\n"
     ]
    }
   ],
   "source": [
    "s3 = input(\"Enter a String to check if it is Palindrome :\")\n",
    "s4=s3.lower()\n",
    "s5=s4[::-1]\n",
    "if s5==s4:\n",
    "    print(\"The given string is Palindrome\")\n",
    "else:\n",
    "    print(\"The given string is not Palindrome\")"
   ]
  },
  {
   "cell_type": "markdown",
   "id": "b7cf38f4-074d-4e79-b9a3-09f88e7b10fd",
   "metadata": {},
   "source": [
    "5. Create a program that takes a string as input and removes all the\n",
    "spaces from it. Print the modified string without spaces."
   ]
  },
  {
   "cell_type": "code",
   "execution_count": 46,
   "id": "001d18b0-9aa3-42f0-a026-86d07058695b",
   "metadata": {},
   "outputs": [
    {
     "name": "stdin",
     "output_type": "stream",
     "text": [
      "Enter a string : rohan shinde   diugiu hdi jin  ogo nnn n\n"
     ]
    },
    {
     "name": "stdout",
     "output_type": "stream",
     "text": [
      "String aftre removing space in it  rohanshindediugiuhdijinogonnnn\n"
     ]
    }
   ],
   "source": [
    "string = input(\"Enter a string :\")\n",
    "print(\"String aftre removing space in it \",string.replace(\" \",\"\"))"
   ]
  },
  {
   "cell_type": "code",
   "execution_count": null,
   "id": "1ef95513-3430-4667-bbd3-205839039d08",
   "metadata": {},
   "outputs": [],
   "source": []
  },
  {
   "cell_type": "code",
   "execution_count": null,
   "id": "11e0aad7-b9f4-47e0-9585-95b854ffa451",
   "metadata": {},
   "outputs": [],
   "source": []
  }
 ],
 "metadata": {
  "kernelspec": {
   "display_name": "Python 3 (ipykernel)",
   "language": "python",
   "name": "python3"
  },
  "language_info": {
   "codemirror_mode": {
    "name": "ipython",
    "version": 3
   },
   "file_extension": ".py",
   "mimetype": "text/x-python",
   "name": "python",
   "nbconvert_exporter": "python",
   "pygments_lexer": "ipython3",
   "version": "3.10.8"
  }
 },
 "nbformat": 4,
 "nbformat_minor": 5
}
